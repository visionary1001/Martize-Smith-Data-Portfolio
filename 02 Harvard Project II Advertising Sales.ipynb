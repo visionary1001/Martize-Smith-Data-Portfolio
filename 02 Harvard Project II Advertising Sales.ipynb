{
 "cells": [
  {
   "cell_type": "code",
   "execution_count": 1,
   "id": "9975da75",
   "metadata": {},
   "outputs": [],
   "source": [
    "#Installing & preparing for coded project Predictiive Modeling For Future Revenue [Business Understanding Phase]\n",
    "#The business problem that is investigated or solved is to reach the business status of hyper-growth \n",
    "#through advertising from accurately predicting future revenue from past advertising performace. \n",
    "library(readr)"
   ]
  },
  {
   "cell_type": "code",
   "execution_count": 2,
   "id": "096fd7ce",
   "metadata": {},
   "outputs": [
    {
     "name": "stderr",
     "output_type": "stream",
     "text": [
      "── \u001b[1mAttaching core tidyverse packages\u001b[22m ──────────────────────────────────────────────────────────────────────────────────────────── tidyverse 2.0.0 ──\n",
      "\u001b[32m✔\u001b[39m \u001b[34mdplyr    \u001b[39m 1.1.4     \u001b[32m✔\u001b[39m \u001b[34mpurrr    \u001b[39m 1.0.4\n",
      "\u001b[32m✔\u001b[39m \u001b[34mforcats  \u001b[39m 1.0.0     \u001b[32m✔\u001b[39m \u001b[34mstringr  \u001b[39m 1.5.1\n",
      "\u001b[32m✔\u001b[39m \u001b[34mggplot2  \u001b[39m 3.5.2     \u001b[32m✔\u001b[39m \u001b[34mtibble   \u001b[39m 3.2.1\n",
      "\u001b[32m✔\u001b[39m \u001b[34mlubridate\u001b[39m 1.9.4     \u001b[32m✔\u001b[39m \u001b[34mtidyr    \u001b[39m 1.3.1\n",
      "── \u001b[1mConflicts\u001b[22m ────────────────────────────────────────────────────────────────────────────────────────────────────────────── tidyverse_conflicts() ──\n",
      "\u001b[31m✖\u001b[39m \u001b[34mdplyr\u001b[39m::\u001b[32mfilter()\u001b[39m masks \u001b[34mstats\u001b[39m::filter()\n",
      "\u001b[31m✖\u001b[39m \u001b[34mdplyr\u001b[39m::\u001b[32mlag()\u001b[39m    masks \u001b[34mstats\u001b[39m::lag()\n",
      "\u001b[36mℹ\u001b[39m Use the conflicted package (\u001b[3m\u001b[34m<http://conflicted.r-lib.org/>\u001b[39m\u001b[23m) to force all conflicts to become errors\n"
     ]
    }
   ],
   "source": [
    "library(tidyverse)"
   ]
  },
  {
   "cell_type": "code",
   "execution_count": 3,
   "id": "3b103c16",
   "metadata": {
    "scrolled": false
   },
   "outputs": [
    {
     "name": "stderr",
     "output_type": "stream",
     "text": [
      "\u001b[1m\u001b[22mNew names:\n",
      "\u001b[36m•\u001b[39m `` -> `...1`\n",
      "\u001b[1mRows: \u001b[22m\u001b[34m200\u001b[39m \u001b[1mColumns: \u001b[22m\u001b[34m5\u001b[39m\n",
      "\u001b[36m──\u001b[39m \u001b[1mColumn specification\u001b[22m \u001b[36m────────────────────────────────────────────────────────────────────────────────────────────────────────────────────────────\u001b[39m\n",
      "\u001b[1mDelimiter:\u001b[22m \",\"\n",
      "\u001b[32mdbl\u001b[39m (5): ...1, TV Ad Budget ($), Radio Ad Budget ($), Newspaper Ad Budget ($...\n",
      "\n",
      "\u001b[36mℹ\u001b[39m Use `spec()` to retrieve the full column specification for this data.\n",
      "\u001b[36mℹ\u001b[39m Specify the column types or set `show_col_types = FALSE` to quiet this message.\n"
     ]
    }
   ],
   "source": [
    "#Putting dataset into notebook for coding [Data Understanding Phase]\n",
    "Adv_data <- read_csv(\"C:/Users/Mtize/Downloads/Advertising_Budget_and_Sales.csv\")\n"
   ]
  },
  {
   "cell_type": "code",
   "execution_count": null,
   "id": "512394f8",
   "metadata": {},
   "outputs": [],
   "source": []
  },
  {
   "cell_type": "code",
   "execution_count": 4,
   "id": "baea9ddc",
   "metadata": {
    "scrolled": false
   },
   "outputs": [
    {
     "data": {
      "text/html": [
       "<table class=\"dataframe\">\n",
       "<caption>A spec_tbl_df: 200 × 5</caption>\n",
       "<thead>\n",
       "\t<tr><th scope=col>...1</th><th scope=col>TV Ad Budget ($)</th><th scope=col>Radio Ad Budget ($)</th><th scope=col>Newspaper Ad Budget ($)</th><th scope=col>Sales ($)</th></tr>\n",
       "\t<tr><th scope=col>&lt;dbl&gt;</th><th scope=col>&lt;dbl&gt;</th><th scope=col>&lt;dbl&gt;</th><th scope=col>&lt;dbl&gt;</th><th scope=col>&lt;dbl&gt;</th></tr>\n",
       "</thead>\n",
       "<tbody>\n",
       "\t<tr><td> 1</td><td>230.1</td><td>37.8</td><td> 69.2</td><td>22.1</td></tr>\n",
       "\t<tr><td> 2</td><td> 44.5</td><td>39.3</td><td> 45.1</td><td>10.4</td></tr>\n",
       "\t<tr><td> 3</td><td> 17.2</td><td>45.9</td><td> 69.3</td><td> 9.3</td></tr>\n",
       "\t<tr><td> 4</td><td>151.5</td><td>41.3</td><td> 58.5</td><td>18.5</td></tr>\n",
       "\t<tr><td> 5</td><td>180.8</td><td>10.8</td><td> 58.4</td><td>12.9</td></tr>\n",
       "\t<tr><td> 6</td><td>  8.7</td><td>48.9</td><td> 75.0</td><td> 7.2</td></tr>\n",
       "\t<tr><td> 7</td><td> 57.5</td><td>32.8</td><td> 23.5</td><td>11.8</td></tr>\n",
       "\t<tr><td> 8</td><td>120.2</td><td>19.6</td><td> 11.6</td><td>13.2</td></tr>\n",
       "\t<tr><td> 9</td><td>  8.6</td><td> 2.1</td><td>  1.0</td><td> 4.8</td></tr>\n",
       "\t<tr><td>10</td><td>199.8</td><td> 2.6</td><td> 21.2</td><td>10.6</td></tr>\n",
       "\t<tr><td>11</td><td> 66.1</td><td> 5.8</td><td> 24.2</td><td> 8.6</td></tr>\n",
       "\t<tr><td>12</td><td>214.7</td><td>24.0</td><td>  4.0</td><td>17.4</td></tr>\n",
       "\t<tr><td>13</td><td> 23.8</td><td>35.1</td><td> 65.9</td><td> 9.2</td></tr>\n",
       "\t<tr><td>14</td><td> 97.5</td><td> 7.6</td><td>  7.2</td><td> 9.7</td></tr>\n",
       "\t<tr><td>15</td><td>204.1</td><td>32.9</td><td> 46.0</td><td>19.0</td></tr>\n",
       "\t<tr><td>16</td><td>195.4</td><td>47.7</td><td> 52.9</td><td>22.4</td></tr>\n",
       "\t<tr><td>17</td><td> 67.8</td><td>36.6</td><td>114.0</td><td>12.5</td></tr>\n",
       "\t<tr><td>18</td><td>281.4</td><td>39.6</td><td> 55.8</td><td>24.4</td></tr>\n",
       "\t<tr><td>19</td><td> 69.2</td><td>20.5</td><td> 18.3</td><td>11.3</td></tr>\n",
       "\t<tr><td>20</td><td>147.3</td><td>23.9</td><td> 19.1</td><td>14.6</td></tr>\n",
       "\t<tr><td>21</td><td>218.4</td><td>27.7</td><td> 53.4</td><td>18.0</td></tr>\n",
       "\t<tr><td>22</td><td>237.4</td><td> 5.1</td><td> 23.5</td><td>12.5</td></tr>\n",
       "\t<tr><td>23</td><td> 13.2</td><td>15.9</td><td> 49.6</td><td> 5.6</td></tr>\n",
       "\t<tr><td>24</td><td>228.3</td><td>16.9</td><td> 26.2</td><td>15.5</td></tr>\n",
       "\t<tr><td>25</td><td> 62.3</td><td>12.6</td><td> 18.3</td><td> 9.7</td></tr>\n",
       "\t<tr><td>26</td><td>262.9</td><td> 3.5</td><td> 19.5</td><td>12.0</td></tr>\n",
       "\t<tr><td>27</td><td>142.9</td><td>29.3</td><td> 12.6</td><td>15.0</td></tr>\n",
       "\t<tr><td>28</td><td>240.1</td><td>16.7</td><td> 22.9</td><td>15.9</td></tr>\n",
       "\t<tr><td>29</td><td>248.8</td><td>27.1</td><td> 22.9</td><td>18.9</td></tr>\n",
       "\t<tr><td>30</td><td> 70.6</td><td>16.0</td><td> 40.8</td><td>10.5</td></tr>\n",
       "\t<tr><td>⋮</td><td>⋮</td><td>⋮</td><td>⋮</td><td>⋮</td></tr>\n",
       "\t<tr><td>171</td><td> 50.0</td><td>11.6</td><td>18.4</td><td> 8.4</td></tr>\n",
       "\t<tr><td>172</td><td>164.5</td><td>20.9</td><td>47.4</td><td>14.5</td></tr>\n",
       "\t<tr><td>173</td><td> 19.6</td><td>20.1</td><td>17.0</td><td> 7.6</td></tr>\n",
       "\t<tr><td>174</td><td>168.4</td><td> 7.1</td><td>12.8</td><td>11.7</td></tr>\n",
       "\t<tr><td>175</td><td>222.4</td><td> 3.4</td><td>13.1</td><td>11.5</td></tr>\n",
       "\t<tr><td>176</td><td>276.9</td><td>48.9</td><td>41.8</td><td>27.0</td></tr>\n",
       "\t<tr><td>177</td><td>248.4</td><td>30.2</td><td>20.3</td><td>20.2</td></tr>\n",
       "\t<tr><td>178</td><td>170.2</td><td> 7.8</td><td>35.2</td><td>11.7</td></tr>\n",
       "\t<tr><td>179</td><td>276.7</td><td> 2.3</td><td>23.7</td><td>11.8</td></tr>\n",
       "\t<tr><td>180</td><td>165.6</td><td>10.0</td><td>17.6</td><td>12.6</td></tr>\n",
       "\t<tr><td>181</td><td>156.6</td><td> 2.6</td><td> 8.3</td><td>10.5</td></tr>\n",
       "\t<tr><td>182</td><td>218.5</td><td> 5.4</td><td>27.4</td><td>12.2</td></tr>\n",
       "\t<tr><td>183</td><td> 56.2</td><td> 5.7</td><td>29.7</td><td> 8.7</td></tr>\n",
       "\t<tr><td>184</td><td>287.6</td><td>43.0</td><td>71.8</td><td>26.2</td></tr>\n",
       "\t<tr><td>185</td><td>253.8</td><td>21.3</td><td>30.0</td><td>17.6</td></tr>\n",
       "\t<tr><td>186</td><td>205.0</td><td>45.1</td><td>19.6</td><td>22.6</td></tr>\n",
       "\t<tr><td>187</td><td>139.5</td><td> 2.1</td><td>26.6</td><td>10.3</td></tr>\n",
       "\t<tr><td>188</td><td>191.1</td><td>28.7</td><td>18.2</td><td>17.3</td></tr>\n",
       "\t<tr><td>189</td><td>286.0</td><td>13.9</td><td> 3.7</td><td>15.9</td></tr>\n",
       "\t<tr><td>190</td><td> 18.7</td><td>12.1</td><td>23.4</td><td> 6.7</td></tr>\n",
       "\t<tr><td>191</td><td> 39.5</td><td>41.1</td><td> 5.8</td><td>10.8</td></tr>\n",
       "\t<tr><td>192</td><td> 75.5</td><td>10.8</td><td> 6.0</td><td> 9.9</td></tr>\n",
       "\t<tr><td>193</td><td> 17.2</td><td> 4.1</td><td>31.6</td><td> 5.9</td></tr>\n",
       "\t<tr><td>194</td><td>166.8</td><td>42.0</td><td> 3.6</td><td>19.6</td></tr>\n",
       "\t<tr><td>195</td><td>149.7</td><td>35.6</td><td> 6.0</td><td>17.3</td></tr>\n",
       "\t<tr><td>196</td><td> 38.2</td><td> 3.7</td><td>13.8</td><td> 7.6</td></tr>\n",
       "\t<tr><td>197</td><td> 94.2</td><td> 4.9</td><td> 8.1</td><td> 9.7</td></tr>\n",
       "\t<tr><td>198</td><td>177.0</td><td> 9.3</td><td> 6.4</td><td>12.8</td></tr>\n",
       "\t<tr><td>199</td><td>283.6</td><td>42.0</td><td>66.2</td><td>25.5</td></tr>\n",
       "\t<tr><td>200</td><td>232.1</td><td> 8.6</td><td> 8.7</td><td>13.4</td></tr>\n",
       "</tbody>\n",
       "</table>\n"
      ],
      "text/latex": [
       "A spec\\_tbl\\_df: 200 × 5\n",
       "\\begin{tabular}{lllll}\n",
       " ...1 & TV Ad Budget (\\$) & Radio Ad Budget (\\$) & Newspaper Ad Budget (\\$) & Sales (\\$)\\\\\n",
       " <dbl> & <dbl> & <dbl> & <dbl> & <dbl>\\\\\n",
       "\\hline\n",
       "\t  1 & 230.1 & 37.8 &  69.2 & 22.1\\\\\n",
       "\t  2 &  44.5 & 39.3 &  45.1 & 10.4\\\\\n",
       "\t  3 &  17.2 & 45.9 &  69.3 &  9.3\\\\\n",
       "\t  4 & 151.5 & 41.3 &  58.5 & 18.5\\\\\n",
       "\t  5 & 180.8 & 10.8 &  58.4 & 12.9\\\\\n",
       "\t  6 &   8.7 & 48.9 &  75.0 &  7.2\\\\\n",
       "\t  7 &  57.5 & 32.8 &  23.5 & 11.8\\\\\n",
       "\t  8 & 120.2 & 19.6 &  11.6 & 13.2\\\\\n",
       "\t  9 &   8.6 &  2.1 &   1.0 &  4.8\\\\\n",
       "\t 10 & 199.8 &  2.6 &  21.2 & 10.6\\\\\n",
       "\t 11 &  66.1 &  5.8 &  24.2 &  8.6\\\\\n",
       "\t 12 & 214.7 & 24.0 &   4.0 & 17.4\\\\\n",
       "\t 13 &  23.8 & 35.1 &  65.9 &  9.2\\\\\n",
       "\t 14 &  97.5 &  7.6 &   7.2 &  9.7\\\\\n",
       "\t 15 & 204.1 & 32.9 &  46.0 & 19.0\\\\\n",
       "\t 16 & 195.4 & 47.7 &  52.9 & 22.4\\\\\n",
       "\t 17 &  67.8 & 36.6 & 114.0 & 12.5\\\\\n",
       "\t 18 & 281.4 & 39.6 &  55.8 & 24.4\\\\\n",
       "\t 19 &  69.2 & 20.5 &  18.3 & 11.3\\\\\n",
       "\t 20 & 147.3 & 23.9 &  19.1 & 14.6\\\\\n",
       "\t 21 & 218.4 & 27.7 &  53.4 & 18.0\\\\\n",
       "\t 22 & 237.4 &  5.1 &  23.5 & 12.5\\\\\n",
       "\t 23 &  13.2 & 15.9 &  49.6 &  5.6\\\\\n",
       "\t 24 & 228.3 & 16.9 &  26.2 & 15.5\\\\\n",
       "\t 25 &  62.3 & 12.6 &  18.3 &  9.7\\\\\n",
       "\t 26 & 262.9 &  3.5 &  19.5 & 12.0\\\\\n",
       "\t 27 & 142.9 & 29.3 &  12.6 & 15.0\\\\\n",
       "\t 28 & 240.1 & 16.7 &  22.9 & 15.9\\\\\n",
       "\t 29 & 248.8 & 27.1 &  22.9 & 18.9\\\\\n",
       "\t 30 &  70.6 & 16.0 &  40.8 & 10.5\\\\\n",
       "\t ⋮ & ⋮ & ⋮ & ⋮ & ⋮\\\\\n",
       "\t 171 &  50.0 & 11.6 & 18.4 &  8.4\\\\\n",
       "\t 172 & 164.5 & 20.9 & 47.4 & 14.5\\\\\n",
       "\t 173 &  19.6 & 20.1 & 17.0 &  7.6\\\\\n",
       "\t 174 & 168.4 &  7.1 & 12.8 & 11.7\\\\\n",
       "\t 175 & 222.4 &  3.4 & 13.1 & 11.5\\\\\n",
       "\t 176 & 276.9 & 48.9 & 41.8 & 27.0\\\\\n",
       "\t 177 & 248.4 & 30.2 & 20.3 & 20.2\\\\\n",
       "\t 178 & 170.2 &  7.8 & 35.2 & 11.7\\\\\n",
       "\t 179 & 276.7 &  2.3 & 23.7 & 11.8\\\\\n",
       "\t 180 & 165.6 & 10.0 & 17.6 & 12.6\\\\\n",
       "\t 181 & 156.6 &  2.6 &  8.3 & 10.5\\\\\n",
       "\t 182 & 218.5 &  5.4 & 27.4 & 12.2\\\\\n",
       "\t 183 &  56.2 &  5.7 & 29.7 &  8.7\\\\\n",
       "\t 184 & 287.6 & 43.0 & 71.8 & 26.2\\\\\n",
       "\t 185 & 253.8 & 21.3 & 30.0 & 17.6\\\\\n",
       "\t 186 & 205.0 & 45.1 & 19.6 & 22.6\\\\\n",
       "\t 187 & 139.5 &  2.1 & 26.6 & 10.3\\\\\n",
       "\t 188 & 191.1 & 28.7 & 18.2 & 17.3\\\\\n",
       "\t 189 & 286.0 & 13.9 &  3.7 & 15.9\\\\\n",
       "\t 190 &  18.7 & 12.1 & 23.4 &  6.7\\\\\n",
       "\t 191 &  39.5 & 41.1 &  5.8 & 10.8\\\\\n",
       "\t 192 &  75.5 & 10.8 &  6.0 &  9.9\\\\\n",
       "\t 193 &  17.2 &  4.1 & 31.6 &  5.9\\\\\n",
       "\t 194 & 166.8 & 42.0 &  3.6 & 19.6\\\\\n",
       "\t 195 & 149.7 & 35.6 &  6.0 & 17.3\\\\\n",
       "\t 196 &  38.2 &  3.7 & 13.8 &  7.6\\\\\n",
       "\t 197 &  94.2 &  4.9 &  8.1 &  9.7\\\\\n",
       "\t 198 & 177.0 &  9.3 &  6.4 & 12.8\\\\\n",
       "\t 199 & 283.6 & 42.0 & 66.2 & 25.5\\\\\n",
       "\t 200 & 232.1 &  8.6 &  8.7 & 13.4\\\\\n",
       "\\end{tabular}\n"
      ],
      "text/markdown": [
       "\n",
       "A spec_tbl_df: 200 × 5\n",
       "\n",
       "| ...1 &lt;dbl&gt; | TV Ad Budget ($) &lt;dbl&gt; | Radio Ad Budget ($) &lt;dbl&gt; | Newspaper Ad Budget ($) &lt;dbl&gt; | Sales ($) &lt;dbl&gt; |\n",
       "|---|---|---|---|---|\n",
       "|  1 | 230.1 | 37.8 |  69.2 | 22.1 |\n",
       "|  2 |  44.5 | 39.3 |  45.1 | 10.4 |\n",
       "|  3 |  17.2 | 45.9 |  69.3 |  9.3 |\n",
       "|  4 | 151.5 | 41.3 |  58.5 | 18.5 |\n",
       "|  5 | 180.8 | 10.8 |  58.4 | 12.9 |\n",
       "|  6 |   8.7 | 48.9 |  75.0 |  7.2 |\n",
       "|  7 |  57.5 | 32.8 |  23.5 | 11.8 |\n",
       "|  8 | 120.2 | 19.6 |  11.6 | 13.2 |\n",
       "|  9 |   8.6 |  2.1 |   1.0 |  4.8 |\n",
       "| 10 | 199.8 |  2.6 |  21.2 | 10.6 |\n",
       "| 11 |  66.1 |  5.8 |  24.2 |  8.6 |\n",
       "| 12 | 214.7 | 24.0 |   4.0 | 17.4 |\n",
       "| 13 |  23.8 | 35.1 |  65.9 |  9.2 |\n",
       "| 14 |  97.5 |  7.6 |   7.2 |  9.7 |\n",
       "| 15 | 204.1 | 32.9 |  46.0 | 19.0 |\n",
       "| 16 | 195.4 | 47.7 |  52.9 | 22.4 |\n",
       "| 17 |  67.8 | 36.6 | 114.0 | 12.5 |\n",
       "| 18 | 281.4 | 39.6 |  55.8 | 24.4 |\n",
       "| 19 |  69.2 | 20.5 |  18.3 | 11.3 |\n",
       "| 20 | 147.3 | 23.9 |  19.1 | 14.6 |\n",
       "| 21 | 218.4 | 27.7 |  53.4 | 18.0 |\n",
       "| 22 | 237.4 |  5.1 |  23.5 | 12.5 |\n",
       "| 23 |  13.2 | 15.9 |  49.6 |  5.6 |\n",
       "| 24 | 228.3 | 16.9 |  26.2 | 15.5 |\n",
       "| 25 |  62.3 | 12.6 |  18.3 |  9.7 |\n",
       "| 26 | 262.9 |  3.5 |  19.5 | 12.0 |\n",
       "| 27 | 142.9 | 29.3 |  12.6 | 15.0 |\n",
       "| 28 | 240.1 | 16.7 |  22.9 | 15.9 |\n",
       "| 29 | 248.8 | 27.1 |  22.9 | 18.9 |\n",
       "| 30 |  70.6 | 16.0 |  40.8 | 10.5 |\n",
       "| ⋮ | ⋮ | ⋮ | ⋮ | ⋮ |\n",
       "| 171 |  50.0 | 11.6 | 18.4 |  8.4 |\n",
       "| 172 | 164.5 | 20.9 | 47.4 | 14.5 |\n",
       "| 173 |  19.6 | 20.1 | 17.0 |  7.6 |\n",
       "| 174 | 168.4 |  7.1 | 12.8 | 11.7 |\n",
       "| 175 | 222.4 |  3.4 | 13.1 | 11.5 |\n",
       "| 176 | 276.9 | 48.9 | 41.8 | 27.0 |\n",
       "| 177 | 248.4 | 30.2 | 20.3 | 20.2 |\n",
       "| 178 | 170.2 |  7.8 | 35.2 | 11.7 |\n",
       "| 179 | 276.7 |  2.3 | 23.7 | 11.8 |\n",
       "| 180 | 165.6 | 10.0 | 17.6 | 12.6 |\n",
       "| 181 | 156.6 |  2.6 |  8.3 | 10.5 |\n",
       "| 182 | 218.5 |  5.4 | 27.4 | 12.2 |\n",
       "| 183 |  56.2 |  5.7 | 29.7 |  8.7 |\n",
       "| 184 | 287.6 | 43.0 | 71.8 | 26.2 |\n",
       "| 185 | 253.8 | 21.3 | 30.0 | 17.6 |\n",
       "| 186 | 205.0 | 45.1 | 19.6 | 22.6 |\n",
       "| 187 | 139.5 |  2.1 | 26.6 | 10.3 |\n",
       "| 188 | 191.1 | 28.7 | 18.2 | 17.3 |\n",
       "| 189 | 286.0 | 13.9 |  3.7 | 15.9 |\n",
       "| 190 |  18.7 | 12.1 | 23.4 |  6.7 |\n",
       "| 191 |  39.5 | 41.1 |  5.8 | 10.8 |\n",
       "| 192 |  75.5 | 10.8 |  6.0 |  9.9 |\n",
       "| 193 |  17.2 |  4.1 | 31.6 |  5.9 |\n",
       "| 194 | 166.8 | 42.0 |  3.6 | 19.6 |\n",
       "| 195 | 149.7 | 35.6 |  6.0 | 17.3 |\n",
       "| 196 |  38.2 |  3.7 | 13.8 |  7.6 |\n",
       "| 197 |  94.2 |  4.9 |  8.1 |  9.7 |\n",
       "| 198 | 177.0 |  9.3 |  6.4 | 12.8 |\n",
       "| 199 | 283.6 | 42.0 | 66.2 | 25.5 |\n",
       "| 200 | 232.1 |  8.6 |  8.7 | 13.4 |\n",
       "\n"
      ],
      "text/plain": [
       "    ...1 TV Ad Budget ($) Radio Ad Budget ($) Newspaper Ad Budget ($) Sales ($)\n",
       "1    1   230.1            37.8                 69.2                   22.1     \n",
       "2    2    44.5            39.3                 45.1                   10.4     \n",
       "3    3    17.2            45.9                 69.3                    9.3     \n",
       "4    4   151.5            41.3                 58.5                   18.5     \n",
       "5    5   180.8            10.8                 58.4                   12.9     \n",
       "6    6     8.7            48.9                 75.0                    7.2     \n",
       "7    7    57.5            32.8                 23.5                   11.8     \n",
       "8    8   120.2            19.6                 11.6                   13.2     \n",
       "9    9     8.6             2.1                  1.0                    4.8     \n",
       "10  10   199.8             2.6                 21.2                   10.6     \n",
       "11  11    66.1             5.8                 24.2                    8.6     \n",
       "12  12   214.7            24.0                  4.0                   17.4     \n",
       "13  13    23.8            35.1                 65.9                    9.2     \n",
       "14  14    97.5             7.6                  7.2                    9.7     \n",
       "15  15   204.1            32.9                 46.0                   19.0     \n",
       "16  16   195.4            47.7                 52.9                   22.4     \n",
       "17  17    67.8            36.6                114.0                   12.5     \n",
       "18  18   281.4            39.6                 55.8                   24.4     \n",
       "19  19    69.2            20.5                 18.3                   11.3     \n",
       "20  20   147.3            23.9                 19.1                   14.6     \n",
       "21  21   218.4            27.7                 53.4                   18.0     \n",
       "22  22   237.4             5.1                 23.5                   12.5     \n",
       "23  23    13.2            15.9                 49.6                    5.6     \n",
       "24  24   228.3            16.9                 26.2                   15.5     \n",
       "25  25    62.3            12.6                 18.3                    9.7     \n",
       "26  26   262.9             3.5                 19.5                   12.0     \n",
       "27  27   142.9            29.3                 12.6                   15.0     \n",
       "28  28   240.1            16.7                 22.9                   15.9     \n",
       "29  29   248.8            27.1                 22.9                   18.9     \n",
       "30  30    70.6            16.0                 40.8                   10.5     \n",
       "⋮   ⋮    ⋮                ⋮                   ⋮                       ⋮        \n",
       "171 171   50.0            11.6                18.4                     8.4     \n",
       "172 172  164.5            20.9                47.4                    14.5     \n",
       "173 173   19.6            20.1                17.0                     7.6     \n",
       "174 174  168.4             7.1                12.8                    11.7     \n",
       "175 175  222.4             3.4                13.1                    11.5     \n",
       "176 176  276.9            48.9                41.8                    27.0     \n",
       "177 177  248.4            30.2                20.3                    20.2     \n",
       "178 178  170.2             7.8                35.2                    11.7     \n",
       "179 179  276.7             2.3                23.7                    11.8     \n",
       "180 180  165.6            10.0                17.6                    12.6     \n",
       "181 181  156.6             2.6                 8.3                    10.5     \n",
       "182 182  218.5             5.4                27.4                    12.2     \n",
       "183 183   56.2             5.7                29.7                     8.7     \n",
       "184 184  287.6            43.0                71.8                    26.2     \n",
       "185 185  253.8            21.3                30.0                    17.6     \n",
       "186 186  205.0            45.1                19.6                    22.6     \n",
       "187 187  139.5             2.1                26.6                    10.3     \n",
       "188 188  191.1            28.7                18.2                    17.3     \n",
       "189 189  286.0            13.9                 3.7                    15.9     \n",
       "190 190   18.7            12.1                23.4                     6.7     \n",
       "191 191   39.5            41.1                 5.8                    10.8     \n",
       "192 192   75.5            10.8                 6.0                     9.9     \n",
       "193 193   17.2             4.1                31.6                     5.9     \n",
       "194 194  166.8            42.0                 3.6                    19.6     \n",
       "195 195  149.7            35.6                 6.0                    17.3     \n",
       "196 196   38.2             3.7                13.8                     7.6     \n",
       "197 197   94.2             4.9                 8.1                     9.7     \n",
       "198 198  177.0             9.3                 6.4                    12.8     \n",
       "199 199  283.6            42.0                66.2                    25.5     \n",
       "200 200  232.1             8.6                 8.7                    13.4     "
      ]
     },
     "metadata": {},
     "output_type": "display_data"
    }
   ],
   "source": [
    "#Examinating Dataset\n",
    "Adv_data"
   ]
  },
  {
   "cell_type": "code",
   "execution_count": null,
   "id": "0c85d85f",
   "metadata": {},
   "outputs": [],
   "source": []
  },
  {
   "cell_type": "code",
   "execution_count": 5,
   "id": "17d761d0",
   "metadata": {},
   "outputs": [
    {
     "data": {
      "text/html": [
       "<table class=\"dataframe\">\n",
       "<caption>A tibble: 6 × 5</caption>\n",
       "<thead>\n",
       "\t<tr><th scope=col>...1</th><th scope=col>TV Ad Budget ($)</th><th scope=col>Radio Ad Budget ($)</th><th scope=col>Newspaper Ad Budget ($)</th><th scope=col>Sales ($)</th></tr>\n",
       "\t<tr><th scope=col>&lt;dbl&gt;</th><th scope=col>&lt;dbl&gt;</th><th scope=col>&lt;dbl&gt;</th><th scope=col>&lt;dbl&gt;</th><th scope=col>&lt;dbl&gt;</th></tr>\n",
       "</thead>\n",
       "<tbody>\n",
       "\t<tr><td>1</td><td>230.1</td><td>37.8</td><td>69.2</td><td>22.1</td></tr>\n",
       "\t<tr><td>2</td><td> 44.5</td><td>39.3</td><td>45.1</td><td>10.4</td></tr>\n",
       "\t<tr><td>3</td><td> 17.2</td><td>45.9</td><td>69.3</td><td> 9.3</td></tr>\n",
       "\t<tr><td>4</td><td>151.5</td><td>41.3</td><td>58.5</td><td>18.5</td></tr>\n",
       "\t<tr><td>5</td><td>180.8</td><td>10.8</td><td>58.4</td><td>12.9</td></tr>\n",
       "\t<tr><td>6</td><td>  8.7</td><td>48.9</td><td>75.0</td><td> 7.2</td></tr>\n",
       "</tbody>\n",
       "</table>\n"
      ],
      "text/latex": [
       "A tibble: 6 × 5\n",
       "\\begin{tabular}{lllll}\n",
       " ...1 & TV Ad Budget (\\$) & Radio Ad Budget (\\$) & Newspaper Ad Budget (\\$) & Sales (\\$)\\\\\n",
       " <dbl> & <dbl> & <dbl> & <dbl> & <dbl>\\\\\n",
       "\\hline\n",
       "\t 1 & 230.1 & 37.8 & 69.2 & 22.1\\\\\n",
       "\t 2 &  44.5 & 39.3 & 45.1 & 10.4\\\\\n",
       "\t 3 &  17.2 & 45.9 & 69.3 &  9.3\\\\\n",
       "\t 4 & 151.5 & 41.3 & 58.5 & 18.5\\\\\n",
       "\t 5 & 180.8 & 10.8 & 58.4 & 12.9\\\\\n",
       "\t 6 &   8.7 & 48.9 & 75.0 &  7.2\\\\\n",
       "\\end{tabular}\n"
      ],
      "text/markdown": [
       "\n",
       "A tibble: 6 × 5\n",
       "\n",
       "| ...1 &lt;dbl&gt; | TV Ad Budget ($) &lt;dbl&gt; | Radio Ad Budget ($) &lt;dbl&gt; | Newspaper Ad Budget ($) &lt;dbl&gt; | Sales ($) &lt;dbl&gt; |\n",
       "|---|---|---|---|---|\n",
       "| 1 | 230.1 | 37.8 | 69.2 | 22.1 |\n",
       "| 2 |  44.5 | 39.3 | 45.1 | 10.4 |\n",
       "| 3 |  17.2 | 45.9 | 69.3 |  9.3 |\n",
       "| 4 | 151.5 | 41.3 | 58.5 | 18.5 |\n",
       "| 5 | 180.8 | 10.8 | 58.4 | 12.9 |\n",
       "| 6 |   8.7 | 48.9 | 75.0 |  7.2 |\n",
       "\n"
      ],
      "text/plain": [
       "  ...1 TV Ad Budget ($) Radio Ad Budget ($) Newspaper Ad Budget ($) Sales ($)\n",
       "1 1    230.1            37.8                69.2                    22.1     \n",
       "2 2     44.5            39.3                45.1                    10.4     \n",
       "3 3     17.2            45.9                69.3                     9.3     \n",
       "4 4    151.5            41.3                58.5                    18.5     \n",
       "5 5    180.8            10.8                58.4                    12.9     \n",
       "6 6      8.7            48.9                75.0                     7.2     "
      ]
     },
     "metadata": {},
     "output_type": "display_data"
    }
   ],
   "source": [
    "head(Adv_data)"
   ]
  },
  {
   "cell_type": "code",
   "execution_count": null,
   "id": "34d477d4",
   "metadata": {},
   "outputs": [],
   "source": []
  },
  {
   "cell_type": "code",
   "execution_count": 6,
   "id": "c780c311",
   "metadata": {},
   "outputs": [
    {
     "name": "stdout",
     "output_type": "stream",
     "text": [
      "spc_tbl_ [200 × 5] (S3: spec_tbl_df/tbl_df/tbl/data.frame)\n",
      " $ ...1                   : num [1:200] 1 2 3 4 5 6 7 8 9 10 ...\n",
      " $ TV Ad Budget ($)       : num [1:200] 230.1 44.5 17.2 151.5 180.8 ...\n",
      " $ Radio Ad Budget ($)    : num [1:200] 37.8 39.3 45.9 41.3 10.8 48.9 32.8 19.6 2.1 2.6 ...\n",
      " $ Newspaper Ad Budget ($): num [1:200] 69.2 45.1 69.3 58.5 58.4 75 23.5 11.6 1 21.2 ...\n",
      " $ Sales ($)              : num [1:200] 22.1 10.4 9.3 18.5 12.9 7.2 11.8 13.2 4.8 10.6 ...\n",
      " - attr(*, \"spec\")=\n",
      "  .. cols(\n",
      "  ..   ...1 = \u001b[32mcol_double()\u001b[39m,\n",
      "  ..   `TV Ad Budget ($)` = \u001b[32mcol_double()\u001b[39m,\n",
      "  ..   `Radio Ad Budget ($)` = \u001b[32mcol_double()\u001b[39m,\n",
      "  ..   `Newspaper Ad Budget ($)` = \u001b[32mcol_double()\u001b[39m,\n",
      "  ..   `Sales ($)` = \u001b[32mcol_double()\u001b[39m\n",
      "  .. )\n",
      " - attr(*, \"problems\")=<externalptr> \n"
     ]
    }
   ],
   "source": [
    "str(Adv_data)"
   ]
  },
  {
   "cell_type": "code",
   "execution_count": 7,
   "id": "360f2370",
   "metadata": {
    "scrolled": true
   },
   "outputs": [
    {
     "data": {
      "text/plain": [
       "      ...1        TV Ad Budget ($) Radio Ad Budget ($) Newspaper Ad Budget ($)\n",
       " Min.   :  1.00   Min.   :  0.70   Min.   : 0.000      Min.   :  0.30         \n",
       " 1st Qu.: 50.75   1st Qu.: 74.38   1st Qu.: 9.975      1st Qu.: 12.75         \n",
       " Median :100.50   Median :149.75   Median :22.900      Median : 25.75         \n",
       " Mean   :100.50   Mean   :147.04   Mean   :23.264      Mean   : 30.55         \n",
       " 3rd Qu.:150.25   3rd Qu.:218.82   3rd Qu.:36.525      3rd Qu.: 45.10         \n",
       " Max.   :200.00   Max.   :296.40   Max.   :49.600      Max.   :114.00         \n",
       "   Sales ($)    \n",
       " Min.   : 1.60  \n",
       " 1st Qu.:10.38  \n",
       " Median :12.90  \n",
       " Mean   :14.02  \n",
       " 3rd Qu.:17.40  \n",
       " Max.   :27.00  "
      ]
     },
     "metadata": {},
     "output_type": "display_data"
    }
   ],
   "source": [
    "#Summary Stats of Advertising Variables\n",
    "summary(Adv_data)"
   ]
  },
  {
   "cell_type": "code",
   "execution_count": null,
   "id": "91086718",
   "metadata": {},
   "outputs": [],
   "source": []
  },
  {
   "cell_type": "code",
   "execution_count": 8,
   "id": "a1f87d46",
   "metadata": {
    "scrolled": true
   },
   "outputs": [
    {
     "data": {
      "image/png": "[encoded data removed]",
      "text/plain": [
       "plot without title"
      ]
     },
     "metadata": {
      "image/png": {
       "height": 420,
       "width": 420
      }
     },
     "output_type": "display_data"
    }
   ],
   "source": [
    "#[Data Explore/Prep phase]\n",
    "pairs(Adv_data, main = \"Scatterplot Matrix of Advertising and Sales\")"
   ]
  },
  {
   "cell_type": "code",
   "execution_count": null,
   "id": "25faf067",
   "metadata": {},
   "outputs": [],
   "source": []
  },
  {
   "cell_type": "code",
   "execution_count": 9,
   "id": "438a07d0",
   "metadata": {},
   "outputs": [
    {
     "data": {
      "text/html": [
       "<table class=\"dataframe\">\n",
       "<caption>A matrix: 5 × 5 of type dbl</caption>\n",
       "<thead>\n",
       "\t<tr><th></th><th scope=col>...1</th><th scope=col>TV Ad Budget ($)</th><th scope=col>Radio Ad Budget ($)</th><th scope=col>Newspaper Ad Budget ($)</th><th scope=col>Sales ($)</th></tr>\n",
       "</thead>\n",
       "<tbody>\n",
       "\t<tr><th scope=row>...1</th><td> 1.00000000</td><td>0.01771469</td><td>-0.11068044</td><td>-0.15494414</td><td>-0.05161625</td></tr>\n",
       "\t<tr><th scope=row>TV Ad Budget ($)</th><td> 0.01771469</td><td>1.00000000</td><td> 0.05480866</td><td> 0.05664787</td><td> 0.78222442</td></tr>\n",
       "\t<tr><th scope=row>Radio Ad Budget ($)</th><td>-0.11068044</td><td>0.05480866</td><td> 1.00000000</td><td> 0.35410375</td><td> 0.57622257</td></tr>\n",
       "\t<tr><th scope=row>Newspaper Ad Budget ($)</th><td>-0.15494414</td><td>0.05664787</td><td> 0.35410375</td><td> 1.00000000</td><td> 0.22829903</td></tr>\n",
       "\t<tr><th scope=row>Sales ($)</th><td>-0.05161625</td><td>0.78222442</td><td> 0.57622257</td><td> 0.22829903</td><td> 1.00000000</td></tr>\n",
       "</tbody>\n",
       "</table>\n"
      ],
      "text/latex": [
       "A matrix: 5 × 5 of type dbl\n",
       "\\begin{tabular}{r|lllll}\n",
       "  & ...1 & TV Ad Budget (\\$) & Radio Ad Budget (\\$) & Newspaper Ad Budget (\\$) & Sales (\\$)\\\\\n",
       "\\hline\n",
       "\t...1 &  1.00000000 & 0.01771469 & -0.11068044 & -0.15494414 & -0.05161625\\\\\n",
       "\tTV Ad Budget (\\$) &  0.01771469 & 1.00000000 &  0.05480866 &  0.05664787 &  0.78222442\\\\\n",
       "\tRadio Ad Budget (\\$) & -0.11068044 & 0.05480866 &  1.00000000 &  0.35410375 &  0.57622257\\\\\n",
       "\tNewspaper Ad Budget (\\$) & -0.15494414 & 0.05664787 &  0.35410375 &  1.00000000 &  0.22829903\\\\\n",
       "\tSales (\\$) & -0.05161625 & 0.78222442 &  0.57622257 &  0.22829903 &  1.00000000\\\\\n",
       "\\end{tabular}\n"
      ],
      "text/markdown": [
       "\n",
       "A matrix: 5 × 5 of type dbl\n",
       "\n",
       "| <!--/--> | ...1 | TV Ad Budget ($) | Radio Ad Budget ($) | Newspaper Ad Budget ($) | Sales ($) |\n",
       "|---|---|---|---|---|---|\n",
       "| ...1 |  1.00000000 | 0.01771469 | -0.11068044 | -0.15494414 | -0.05161625 |\n",
       "| TV Ad Budget ($) |  0.01771469 | 1.00000000 |  0.05480866 |  0.05664787 |  0.78222442 |\n",
       "| Radio Ad Budget ($) | -0.11068044 | 0.05480866 |  1.00000000 |  0.35410375 |  0.57622257 |\n",
       "| Newspaper Ad Budget ($) | -0.15494414 | 0.05664787 |  0.35410375 |  1.00000000 |  0.22829903 |\n",
       "| Sales ($) | -0.05161625 | 0.78222442 |  0.57622257 |  0.22829903 |  1.00000000 |\n",
       "\n"
      ],
      "text/plain": [
       "                        ...1        TV Ad Budget ($) Radio Ad Budget ($)\n",
       "...1                     1.00000000 0.01771469       -0.11068044        \n",
       "TV Ad Budget ($)         0.01771469 1.00000000        0.05480866        \n",
       "Radio Ad Budget ($)     -0.11068044 0.05480866        1.00000000        \n",
       "Newspaper Ad Budget ($) -0.15494414 0.05664787        0.35410375        \n",
       "Sales ($)               -0.05161625 0.78222442        0.57622257        \n",
       "                        Newspaper Ad Budget ($) Sales ($)  \n",
       "...1                    -0.15494414             -0.05161625\n",
       "TV Ad Budget ($)         0.05664787              0.78222442\n",
       "Radio Ad Budget ($)      0.35410375              0.57622257\n",
       "Newspaper Ad Budget ($)  1.00000000              0.22829903\n",
       "Sales ($)                0.22829903              1.00000000"
      ]
     },
     "metadata": {},
     "output_type": "display_data"
    }
   ],
   "source": [
    "#Corrleations Overview within the Dataset\n",
    "cor(Adv_data)"
   ]
  },
  {
   "cell_type": "code",
   "execution_count": null,
   "id": "9d16ca81",
   "metadata": {},
   "outputs": [],
   "source": []
  },
  {
   "cell_type": "code",
   "execution_count": 10,
   "id": "5c332c5c",
   "metadata": {},
   "outputs": [],
   "source": [
    "library(ggplot2)"
   ]
  },
  {
   "cell_type": "code",
   "execution_count": 11,
   "id": "a260601d",
   "metadata": {},
   "outputs": [
    {
     "data": {
      "text/html": [
       "<style>\n",
       ".list-inline {list-style: none; margin:0; padding: 0}\n",
       ".list-inline>li {display: inline-block}\n",
       ".list-inline>li:not(:last-child)::after {content: \"\\00b7\"; padding: 0 .5ex}\n",
       "</style>\n",
       "<ol class=list-inline><li>'...1'</li><li>'TV Ad Budget ($)'</li><li>'Radio Ad Budget ($)'</li><li>'Newspaper Ad Budget ($)'</li><li>'Sales ($)'</li></ol>\n"
      ],
      "text/latex": [
       "\\begin{enumerate*}\n",
       "\\item '...1'\n",
       "\\item 'TV Ad Budget (\\$)'\n",
       "\\item 'Radio Ad Budget (\\$)'\n",
       "\\item 'Newspaper Ad Budget (\\$)'\n",
       "\\item 'Sales (\\$)'\n",
       "\\end{enumerate*}\n"
      ],
      "text/markdown": [
       "1. '...1'\n",
       "2. 'TV Ad Budget ($)'\n",
       "3. 'Radio Ad Budget ($)'\n",
       "4. 'Newspaper Ad Budget ($)'\n",
       "5. 'Sales ($)'\n",
       "\n",
       "\n"
      ],
      "text/plain": [
       "[1] \"...1\"                    \"TV Ad Budget ($)\"       \n",
       "[3] \"Radio Ad Budget ($)\"     \"Newspaper Ad Budget ($)\"\n",
       "[5] \"Sales ($)\"              "
      ]
     },
     "metadata": {},
     "output_type": "display_data"
    }
   ],
   "source": [
    "#Column Name Changes \n",
    "colnames(Adv_data)"
   ]
  },
  {
   "cell_type": "code",
   "execution_count": 12,
   "id": "4019ecb1",
   "metadata": {},
   "outputs": [],
   "source": [
    "colnames(Adv_data) <- c(\"Tv_Ad_Budget\", \"Radio_Ad_Budget\", \"Newspaper_Ad_Budget\", \"Sales\")"
   ]
  },
  {
   "cell_type": "code",
   "execution_count": 13,
   "id": "c55f975f",
   "metadata": {},
   "outputs": [
    {
     "data": {
      "text/html": [
       "<style>\n",
       ".list-inline {list-style: none; margin:0; padding: 0}\n",
       ".list-inline>li {display: inline-block}\n",
       ".list-inline>li:not(:last-child)::after {content: \"\\00b7\"; padding: 0 .5ex}\n",
       "</style>\n",
       "<ol class=list-inline><li>'Tv_Ad_Budget'</li><li>'Radio_Ad_Budget'</li><li>'Newspaper_Ad_Budget'</li><li>'Sales'</li><li>NA</li></ol>\n"
      ],
      "text/latex": [
       "\\begin{enumerate*}\n",
       "\\item 'Tv\\_Ad\\_Budget'\n",
       "\\item 'Radio\\_Ad\\_Budget'\n",
       "\\item 'Newspaper\\_Ad\\_Budget'\n",
       "\\item 'Sales'\n",
       "\\item NA\n",
       "\\end{enumerate*}\n"
      ],
      "text/markdown": [
       "1. 'Tv_Ad_Budget'\n",
       "2. 'Radio_Ad_Budget'\n",
       "3. 'Newspaper_Ad_Budget'\n",
       "4. 'Sales'\n",
       "5. NA\n",
       "\n",
       "\n"
      ],
      "text/plain": [
       "[1] \"Tv_Ad_Budget\"        \"Radio_Ad_Budget\"     \"Newspaper_Ad_Budget\"\n",
       "[4] \"Sales\"               NA                   "
      ]
     },
     "metadata": {},
     "output_type": "display_data"
    }
   ],
   "source": [
    "colnames(Adv_data)"
   ]
  },
  {
   "cell_type": "code",
   "execution_count": 14,
   "id": "9c879144",
   "metadata": {},
   "outputs": [
    {
     "name": "stderr",
     "output_type": "stream",
     "text": [
      "\n",
      "Attaching package: 'reshape2'\n",
      "\n",
      "\n",
      "The following object is masked from 'package:tidyr':\n",
      "\n",
      "    smiths\n",
      "\n",
      "\n"
     ]
    }
   ],
   "source": [
    "library(reshape2)"
   ]
  },
  {
   "cell_type": "code",
   "execution_count": null,
   "id": "dff3bca0",
   "metadata": {},
   "outputs": [],
   "source": []
  },
  {
   "cell_type": "code",
   "execution_count": 15,
   "id": "730c4c5a",
   "metadata": {},
   "outputs": [],
   "source": [
    "#Reshaping dataset for easier visuals to be created\n",
    "long_data <- reshape2::melt(Adv_data, id.vars=\"Sales\", \n",
    "                            measure.vars=c(\"Tv_Ad_Budget\", \"Radio_Ad_Budget\", \"Newspaper_Ad_Budget\"),\n",
    "                            variable.name=\"Advertising Type\", value.name=\"Ad Budget\")"
   ]
  },
  {
   "cell_type": "code",
   "execution_count": 16,
   "id": "772656e0",
   "metadata": {},
   "outputs": [
    {
     "data": {
      "image/png": "[encoded data removed]",
      "text/plain": [
       "plot without title"
      ]
     },
     "metadata": {
      "image/png": {
       "height": 420,
       "width": 420
      }
     },
     "output_type": "display_data"
    }
   ],
   "source": [
    "#scatter plot to visualize the relationship between advertising budgets and sales revenue, \n",
    "#with points colored by the type of advertising\n",
    "ggplot(long_data, aes(x=`Ad Budget`, y=Sales, color=`Advertising Type`)) +\n",
    "  geom_point() +\n",
    "  labs(title=\"Advertising Budgets vs Sales Revenue\", \n",
    "       x=\"Advertising Budget\", y=\"Sales Revenue\") +\n",
    "  theme_minimal() +\n",
    "  scale_color_manual(values=c(\"blue\", \"red\", \"green\"))"
   ]
  },
  {
   "cell_type": "code",
   "execution_count": null,
   "id": "858b40fa",
   "metadata": {},
   "outputs": [],
   "source": []
  },
  {
   "cell_type": "code",
   "execution_count": 17,
   "id": "bd6ca22e",
   "metadata": {},
   "outputs": [
    {
     "name": "stderr",
     "output_type": "stream",
     "text": [
      "Installing package into 'C:/Users/Mtize/AppData/Local/R/win-library/4.5'\n",
      "(as 'lib' is unspecified)\n",
      "\n"
     ]
    },
    {
     "name": "stdout",
     "output_type": "stream",
     "text": [
      "package 'corrplot' successfully unpacked and MD5 sums checked\n",
      "\n",
      "The downloaded binary packages are in\n",
      "\tC:\\Users\\Mtize\\AppData\\Local\\Temp\\RtmpO04msA\\downloaded_packages\n"
     ]
    }
   ],
   "source": [
    "install.packages(\"corrplot\")"
   ]
  },
  {
   "cell_type": "code",
   "execution_count": 18,
   "id": "a53ceb87",
   "metadata": {},
   "outputs": [
    {
     "name": "stderr",
     "output_type": "stream",
     "text": [
      "corrplot 0.95 loaded\n",
      "\n"
     ]
    }
   ],
   "source": [
    "library(corrplot)"
   ]
  },
  {
   "cell_type": "code",
   "execution_count": 19,
   "id": "7cd892d7",
   "metadata": {},
   "outputs": [],
   "source": [
    "numeric_data <- Adv_data[, c(\"Tv_Ad_Budget\", \"Radio_Ad_Budget\", \"Newspaper_Ad_Budget\", \"Sales\")]"
   ]
  },
  {
   "cell_type": "code",
   "execution_count": 20,
   "id": "d8db09f9",
   "metadata": {},
   "outputs": [],
   "source": [
    "cor_matrix <- cor(numeric_data)"
   ]
  },
  {
   "cell_type": "code",
   "execution_count": 21,
   "id": "ea4f08f7",
   "metadata": {},
   "outputs": [
    {
     "data": {
      "image/png": "[encoded data removed]",
      "text/plain": [
       "Plot with title \"\""
      ]
     },
     "metadata": {
      "image/png": {
       "height": 420,
       "width": 420
      }
     },
     "output_type": "display_data"
    }
   ],
   "source": [
    "#Visual of Correlation matrix\n",
    "corrplot(cor_matrix, method = \"color\", type = \"upper\", addCoef.col = \"black\", \n",
    "         tl.col = \"black\", tl.srt = 45, number.cex = 0.8)"
   ]
  },
  {
   "cell_type": "code",
   "execution_count": null,
   "id": "0bd876ea",
   "metadata": {},
   "outputs": [],
   "source": []
  },
  {
   "cell_type": "code",
   "execution_count": 22,
   "id": "d4c17b7a",
   "metadata": {},
   "outputs": [
    {
     "data": {
      "text/html": [
       "140"
      ],
      "text/latex": [
       "140"
      ],
      "text/markdown": [
       "140"
      ],
      "text/plain": [
       "[1] 140"
      ]
     },
     "metadata": {},
     "output_type": "display_data"
    },
    {
     "data": {
      "text/html": [
       "60"
      ],
      "text/latex": [
       "60"
      ],
      "text/markdown": [
       "60"
      ],
      "text/plain": [
       "[1] 60"
      ]
     },
     "metadata": {},
     "output_type": "display_data"
    }
   ],
   "source": [
    "#Test/Train Split 70/30 \n",
    "#Set a seed for reproducibility\n",
    "set.seed(123)\n",
    "\n",
    "# Get the number of rows\n",
    "n <- nrow(Adv_data)\n",
    "\n",
    "# Choose 70% for training\n",
    "train_indices <- sample(1:n, size = 0.7 * n)\n",
    "\n",
    "# Spliting the data\n",
    "train_data <- Adv_data[train_indices, ]\n",
    "test_data <- Adv_data[-train_indices, ]\n",
    "\n",
    "# Checking the split\n",
    "nrow(train_data)  # Should be ~70% of data\n",
    "nrow(test_data)   # Should be ~30% of data"
   ]
  },
  {
   "cell_type": "code",
   "execution_count": null,
   "id": "13708aa0",
   "metadata": {},
   "outputs": [],
   "source": []
  },
  {
   "cell_type": "code",
   "execution_count": 23,
   "id": "38db212f",
   "metadata": {},
   "outputs": [],
   "source": [
    "#[Modeling Phase] ; Model 1 is Multiple Linear Regression & Its Evaluation "
   ]
  },
  {
   "cell_type": "code",
   "execution_count": 24,
   "id": "3458fc95",
   "metadata": {},
   "outputs": [],
   "source": [
    "model <- lm(Sales ~ Tv_Ad_Budget + Radio_Ad_Budget + Newspaper_Ad_Budget, data = train_data)"
   ]
  },
  {
   "cell_type": "code",
   "execution_count": 25,
   "id": "207cbbc4",
   "metadata": {},
   "outputs": [
    {
     "data": {
      "text/plain": [
       "\n",
       "Call:\n",
       "lm(formula = Sales ~ Tv_Ad_Budget + Radio_Ad_Budget + Newspaper_Ad_Budget, \n",
       "    data = train_data)\n",
       "\n",
       "Residuals:\n",
       "    Min      1Q  Median      3Q     Max \n",
       "-36.386 -14.889  -1.152  13.797  72.189 \n",
       "\n",
       "Coefficients:\n",
       "                    Estimate Std. Error t value Pr(>|t|)    \n",
       "(Intercept)         27.42311    5.84387   4.693  6.5e-06 ***\n",
       "Tv_Ad_Budget        -0.06022    0.02998  -2.009 0.046560 *  \n",
       "Radio_Ad_Budget     -0.01212    0.02072  -0.585 0.559478    \n",
       "Newspaper_Ad_Budget  0.44352    0.12149   3.651 0.000372 ***\n",
       "---\n",
       "Signif. codes:  0 '***' 0.001 '**' 0.01 '*' 0.05 '.' 0.1 ' ' 1\n",
       "\n",
       "Residual standard error: 20.94 on 136 degrees of freedom\n",
       "Multiple R-squared:  0.1319,\tAdjusted R-squared:  0.1127 \n",
       "F-statistic: 6.887 on 3 and 136 DF,  p-value: 0.0002366\n"
      ]
     },
     "metadata": {},
     "output_type": "display_data"
    }
   ],
   "source": [
    "summary(model)"
   ]
  },
  {
   "cell_type": "code",
   "execution_count": null,
   "id": "67abeb9b",
   "metadata": {},
   "outputs": [],
   "source": []
  },
  {
   "cell_type": "code",
   "execution_count": 26,
   "id": "8147fedd",
   "metadata": {},
   "outputs": [
    {
     "name": "stdout",
     "output_type": "stream",
     "text": [
      "[1] 19.40001\n"
     ]
    }
   ],
   "source": [
    "predictions <- predict(model, newdata = test_data)\n",
    "\n",
    "# Now calculate RMSE\n",
    "rmse_value <- sqrt(mean((test_data$Sales - predictions)^2))\n",
    "\n",
    "# Print the RMSE\n",
    "print(rmse_value)"
   ]
  },
  {
   "cell_type": "code",
   "execution_count": 27,
   "id": "b5d108fb",
   "metadata": {},
   "outputs": [
    {
     "data": {
      "text/html": [
       "32.1283333333333"
      ],
      "text/latex": [
       "32.1283333333333"
      ],
      "text/markdown": [
       "32.1283333333333"
      ],
      "text/plain": [
       "[1] 32.12833"
      ]
     },
     "metadata": {},
     "output_type": "display_data"
    }
   ],
   "source": [
    "mean(test_data$Sales)"
   ]
  },
  {
   "cell_type": "code",
   "execution_count": 28,
   "id": "7f1778d9",
   "metadata": {},
   "outputs": [],
   "source": [
    "#The RMSE value of 19.4 is quite large relative to the average sales of 32.13, \n",
    "#indicating that the model’s predictions are off by a significant margin. Specifically, the RMSE represents \n",
    "#about 60.4% of the average sales, which suggests a high error rate. This means the model’s predictions\n",
    "#are not very accurate, as the errors are almost as large as the typical sales value. \n",
    "#To improve this, you might consider adding more relevant features, exploring non-linear models like decision trees\n",
    "#or random forests, or trying some feature engineering techniques to capture more complex relationships in the data."
   ]
  },
  {
   "cell_type": "code",
   "execution_count": null,
   "id": "ab59f60e",
   "metadata": {},
   "outputs": [],
   "source": []
  },
  {
   "cell_type": "code",
   "execution_count": 29,
   "id": "264cc766",
   "metadata": {},
   "outputs": [],
   "source": [
    "#Model 2 Random Forest & Its Evaluation "
   ]
  },
  {
   "cell_type": "code",
   "execution_count": 30,
   "id": "91377172",
   "metadata": {},
   "outputs": [
    {
     "name": "stderr",
     "output_type": "stream",
     "text": [
      "Installing package into 'C:/Users/Mtize/AppData/Local/R/win-library/4.5'\n",
      "(as 'lib' is unspecified)\n",
      "\n"
     ]
    },
    {
     "name": "stdout",
     "output_type": "stream",
     "text": [
      "package 'randomForest' successfully unpacked and MD5 sums checked\n"
     ]
    },
    {
     "name": "stderr",
     "output_type": "stream",
     "text": [
      "Warning message:\n",
      "\"cannot remove prior installation of package 'randomForest'\"\n",
      "Warning message in file.copy(savedcopy, lib, recursive = TRUE):\n",
      "\"problem copying C:\\Users\\Mtize\\AppData\\Local\\R\\win-library\\4.5\\00LOCK\\randomForest\\libs\\x64\\randomForest.dll to C:\\Users\\Mtize\\AppData\\Local\\R\\win-library\\4.5\\randomForest\\libs\\x64\\randomForest.dll: Permission denied\"\n",
      "Warning message:\n",
      "\"restored 'randomForest'\"\n"
     ]
    },
    {
     "name": "stdout",
     "output_type": "stream",
     "text": [
      "\n",
      "The downloaded binary packages are in\n",
      "\tC:\\Users\\Mtize\\AppData\\Local\\Temp\\RtmpO04msA\\downloaded_packages\n"
     ]
    }
   ],
   "source": [
    "install.packages(\"randomForest\")"
   ]
  },
  {
   "cell_type": "code",
   "execution_count": 31,
   "id": "3d119e5d",
   "metadata": {},
   "outputs": [
    {
     "name": "stderr",
     "output_type": "stream",
     "text": [
      "randomForest 4.7-1.2\n",
      "\n",
      "Type rfNews() to see new features/changes/bug fixes.\n",
      "\n",
      "\n",
      "Attaching package: 'randomForest'\n",
      "\n",
      "\n",
      "The following object is masked from 'package:dplyr':\n",
      "\n",
      "    combine\n",
      "\n",
      "\n",
      "The following object is masked from 'package:ggplot2':\n",
      "\n",
      "    margin\n",
      "\n",
      "\n"
     ]
    }
   ],
   "source": [
    "library(randomForest)"
   ]
  },
  {
   "cell_type": "code",
   "execution_count": null,
   "id": "5a824b6b",
   "metadata": {},
   "outputs": [],
   "source": []
  },
  {
   "cell_type": "code",
   "execution_count": 32,
   "id": "226a1cda",
   "metadata": {},
   "outputs": [],
   "source": [
    "rf_model <- randomForest(Sales ~ Tv_Ad_Budget + Radio_Ad_Budget + Newspaper_Ad_Budget, \n",
    "                         data = train_data, ntree = 500)"
   ]
  },
  {
   "cell_type": "code",
   "execution_count": 33,
   "id": "ae94e876",
   "metadata": {},
   "outputs": [
    {
     "name": "stdout",
     "output_type": "stream",
     "text": [
      "\n",
      "Call:\n",
      " randomForest(formula = Sales ~ Tv_Ad_Budget + Radio_Ad_Budget +      Newspaper_Ad_Budget, data = train_data, ntree = 500) \n",
      "               Type of random forest: regression\n",
      "                     Number of trees: 500\n",
      "No. of variables tried at each split: 1\n",
      "\n",
      "          Mean of squared residuals: 486.3984\n",
      "                    % Var explained: 0.91\n"
     ]
    }
   ],
   "source": [
    "print(rf_model)"
   ]
  },
  {
   "cell_type": "code",
   "execution_count": null,
   "id": "c450e94b",
   "metadata": {},
   "outputs": [],
   "source": []
  },
  {
   "cell_type": "code",
   "execution_count": 34,
   "id": "ae15d1bd",
   "metadata": {},
   "outputs": [],
   "source": [
    "rf_predictions <- predict(rf_model, newdata = test_data)"
   ]
  },
  {
   "cell_type": "code",
   "execution_count": 35,
   "id": "32f78ae2",
   "metadata": {},
   "outputs": [
    {
     "data": {
      "text/html": [
       "<style>\n",
       ".dl-inline {width: auto; margin:0; padding: 0}\n",
       ".dl-inline>dt, .dl-inline>dd {float: none; width: auto; display: inline-block}\n",
       ".dl-inline>dt::after {content: \":\\0020\"; padding-right: .5ex}\n",
       ".dl-inline>dt:not(:first-of-type) {padding-left: .5ex}\n",
       "</style><dl class=dl-inline><dt>1</dt><dd>59.1240933333334</dd><dt>2</dt><dd>65.5890733333334</dd><dt>3</dt><dd>21.0405733333333</dd><dt>4</dt><dd>23.1229533333333</dd><dt>5</dt><dd>44.9567666666667</dd><dt>6</dt><dd>48.2083300000001</dd></dl>\n"
      ],
      "text/latex": [
       "\\begin{description*}\n",
       "\\item[1] 59.1240933333334\n",
       "\\item[2] 65.5890733333334\n",
       "\\item[3] 21.0405733333333\n",
       "\\item[4] 23.1229533333333\n",
       "\\item[5] 44.9567666666667\n",
       "\\item[6] 48.2083300000001\n",
       "\\end{description*}\n"
      ],
      "text/markdown": [
       "1\n",
       ":   59.12409333333342\n",
       ":   65.58907333333343\n",
       ":   21.04057333333334\n",
       ":   23.12295333333335\n",
       ":   44.95676666666676\n",
       ":   48.2083300000001\n",
       "\n"
      ],
      "text/plain": [
       "       1        2        3        4        5        6 \n",
       "59.12409 65.58907 21.04057 23.12295 44.95677 48.20833 "
      ]
     },
     "metadata": {},
     "output_type": "display_data"
    }
   ],
   "source": [
    "head(rf_predictions)"
   ]
  },
  {
   "cell_type": "code",
   "execution_count": null,
   "id": "dfe2a386",
   "metadata": {},
   "outputs": [],
   "source": []
  },
  {
   "cell_type": "code",
   "execution_count": 36,
   "id": "dc082770",
   "metadata": {},
   "outputs": [],
   "source": [
    "# Calculate RMSE for Random Forest model\n",
    "rf_rmse <- sqrt(mean((test_data$Sales - rf_predictions)^2))"
   ]
  },
  {
   "cell_type": "code",
   "execution_count": 37,
   "id": "e13d4091",
   "metadata": {},
   "outputs": [
    {
     "name": "stdout",
     "output_type": "stream",
     "text": [
      "[1] 19.75637\n"
     ]
    }
   ],
   "source": [
    "print(rf_rmse)"
   ]
  },
  {
   "cell_type": "code",
   "execution_count": null,
   "id": "a4c69820",
   "metadata": {},
   "outputs": [],
   "source": []
  },
  {
   "cell_type": "code",
   "execution_count": 38,
   "id": "d0a4bf77",
   "metadata": {},
   "outputs": [],
   "source": [
    "#Cross Validation "
   ]
  },
  {
   "cell_type": "code",
   "execution_count": 39,
   "id": "a36f7654",
   "metadata": {},
   "outputs": [
    {
     "name": "stderr",
     "output_type": "stream",
     "text": [
      "Installing package into 'C:/Users/Mtize/AppData/Local/R/win-library/4.5'\n",
      "(as 'lib' is unspecified)\n",
      "\n"
     ]
    },
    {
     "name": "stdout",
     "output_type": "stream",
     "text": [
      "package 'caret' successfully unpacked and MD5 sums checked\n"
     ]
    },
    {
     "name": "stderr",
     "output_type": "stream",
     "text": [
      "Warning message:\n",
      "\"cannot remove prior installation of package 'caret'\"\n",
      "Warning message in file.copy(savedcopy, lib, recursive = TRUE):\n",
      "\"problem copying C:\\Users\\Mtize\\AppData\\Local\\R\\win-library\\4.5\\00LOCK\\caret\\libs\\x64\\caret.dll to C:\\Users\\Mtize\\AppData\\Local\\R\\win-library\\4.5\\caret\\libs\\x64\\caret.dll: Permission denied\"\n",
      "Warning message:\n",
      "\"restored 'caret'\"\n"
     ]
    },
    {
     "name": "stdout",
     "output_type": "stream",
     "text": [
      "\n",
      "The downloaded binary packages are in\n",
      "\tC:\\Users\\Mtize\\AppData\\Local\\Temp\\RtmpO04msA\\downloaded_packages\n"
     ]
    }
   ],
   "source": [
    "install.packages(\"caret\")"
   ]
  },
  {
   "cell_type": "code",
   "execution_count": 40,
   "id": "96852bbf",
   "metadata": {},
   "outputs": [
    {
     "name": "stderr",
     "output_type": "stream",
     "text": [
      "Loading required package: lattice\n",
      "\n",
      "\n",
      "Attaching package: 'caret'\n",
      "\n",
      "\n",
      "The following object is masked from 'package:purrr':\n",
      "\n",
      "    lift\n",
      "\n",
      "\n"
     ]
    }
   ],
   "source": [
    "library(caret)"
   ]
  },
  {
   "cell_type": "code",
   "execution_count": 41,
   "id": "84c82f8a",
   "metadata": {},
   "outputs": [],
   "source": [
    "train_control <- trainControl(method = \"cv\", number = 5)  # 5-fold CV"
   ]
  },
  {
   "cell_type": "code",
   "execution_count": 42,
   "id": "3b0aec4a",
   "metadata": {},
   "outputs": [
    {
     "name": "stdout",
     "output_type": "stream",
     "text": [
      "note: only 2 unique complexity parameters in default grid. Truncating the grid to 2 .\n",
      "\n"
     ]
    }
   ],
   "source": [
    "rf_cv_model <- train(Sales ~ Tv_Ad_Budget + Radio_Ad_Budget + Newspaper_Ad_Budget, \n",
    "                     data = train_data, \n",
    "                     method = \"rf\", \n",
    "                     trControl = train_control, \n",
    "                     ntree = 1000)"
   ]
  },
  {
   "cell_type": "code",
   "execution_count": 43,
   "id": "476b2708",
   "metadata": {},
   "outputs": [
    {
     "name": "stdout",
     "output_type": "stream",
     "text": [
      "Random Forest \n",
      "\n",
      "140 samples\n",
      "  3 predictor\n",
      "\n",
      "No pre-processing\n",
      "Resampling: Cross-Validated (5 fold) \n",
      "Summary of sample sizes: 112, 112, 112, 112, 112 \n",
      "Resampling results across tuning parameters:\n",
      "\n",
      "  mtry  RMSE      Rsquared   MAE     \n",
      "  2     21.93355  0.1275859  17.52712\n",
      "  3     22.36827  0.1147234  17.88281\n",
      "\n",
      "RMSE was used to select the optimal model using the smallest value.\n",
      "The final value used for the model was mtry = 2.\n"
     ]
    }
   ],
   "source": [
    "print(rf_cv_model)\n"
   ]
  },
  {
   "cell_type": "code",
   "execution_count": null,
   "id": "3d8f35c7",
   "metadata": {},
   "outputs": [],
   "source": []
  },
  {
   "cell_type": "code",
   "execution_count": 44,
   "id": "6328a42b",
   "metadata": {},
   "outputs": [
    {
     "name": "stdout",
     "output_type": "stream",
     "text": [
      "[1] 21.93355 22.36827\n"
     ]
    }
   ],
   "source": [
    "rf_cv_rmse <- rf_cv_model$results$RMSE\n",
    "print(rf_cv_rmse)"
   ]
  },
  {
   "cell_type": "code",
   "execution_count": 45,
   "id": "81d886f7",
   "metadata": {},
   "outputs": [
    {
     "name": "stdout",
     "output_type": "stream",
     "text": [
      "  mtry     RMSE  Rsquared      MAE   RMSESD RsquaredSD    MAESD\n",
      "1    2 21.93355 0.1275859 17.52712 2.607666 0.07982639 2.017152\n",
      "2    3 22.36827 0.1147234 17.88281 2.598489 0.07394455 1.966245\n"
     ]
    }
   ],
   "source": [
    "print(rf_cv_model$results)"
   ]
  },
  {
   "cell_type": "code",
   "execution_count": null,
   "id": "abf37047",
   "metadata": {},
   "outputs": [],
   "source": []
  },
  {
   "cell_type": "code",
   "execution_count": 46,
   "id": "71add62b",
   "metadata": {},
   "outputs": [],
   "source": [
    "#Model 3 xgboost & its Evaluation"
   ]
  },
  {
   "cell_type": "code",
   "execution_count": null,
   "id": "bb7de948",
   "metadata": {},
   "outputs": [],
   "source": []
  },
  {
   "cell_type": "code",
   "execution_count": 47,
   "id": "a21526e9",
   "metadata": {},
   "outputs": [
    {
     "name": "stderr",
     "output_type": "stream",
     "text": [
      "Installing package into 'C:/Users/Mtize/AppData/Local/R/win-library/4.5'\n",
      "(as 'lib' is unspecified)\n",
      "\n"
     ]
    },
    {
     "name": "stdout",
     "output_type": "stream",
     "text": [
      "package 'xgboost' successfully unpacked and MD5 sums checked\n",
      "\n",
      "The downloaded binary packages are in\n",
      "\tC:\\Users\\Mtize\\AppData\\Local\\Temp\\RtmpO04msA\\downloaded_packages\n"
     ]
    }
   ],
   "source": [
    "install.packages(\"xgboost\")"
   ]
  },
  {
   "cell_type": "code",
   "execution_count": 48,
   "id": "049d3800",
   "metadata": {},
   "outputs": [
    {
     "name": "stderr",
     "output_type": "stream",
     "text": [
      "\n",
      "Attaching package: 'xgboost'\n",
      "\n",
      "\n",
      "The following object is masked from 'package:dplyr':\n",
      "\n",
      "    slice\n",
      "\n",
      "\n"
     ]
    }
   ],
   "source": [
    "library(xgboost)"
   ]
  },
  {
   "cell_type": "code",
   "execution_count": 49,
   "id": "17008c8d",
   "metadata": {},
   "outputs": [],
   "source": [
    "train_matrix <- as.matrix(train_data[, c(\"Tv_Ad_Budget\", \"Radio_Ad_Budget\", \"Newspaper_Ad_Budget\")])\n",
    "test_matrix <- as.matrix(test_data[, c(\"Tv_Ad_Budget\", \"Radio_Ad_Budget\", \"Newspaper_Ad_Budget\")])"
   ]
  },
  {
   "cell_type": "code",
   "execution_count": 50,
   "id": "d174015f",
   "metadata": {},
   "outputs": [],
   "source": [
    "train_label <- train_data$Sales\n",
    "test_label <- test_data$Sales"
   ]
  },
  {
   "cell_type": "code",
   "execution_count": 51,
   "id": "b603f737",
   "metadata": {
    "scrolled": true
   },
   "outputs": [
    {
     "name": "stdout",
     "output_type": "stream",
     "text": [
      "[1]\ttrain-rmse:34.041771 \n",
      "[2]\ttrain-rmse:31.619768 \n",
      "[3]\ttrain-rmse:29.433235 \n",
      "[4]\ttrain-rmse:27.463258 \n",
      "[5]\ttrain-rmse:25.725914 \n",
      "[6]\ttrain-rmse:24.123463 \n",
      "[7]\ttrain-rmse:22.573386 \n",
      "[8]\ttrain-rmse:21.181905 \n",
      "[9]\ttrain-rmse:19.970710 \n",
      "[10]\ttrain-rmse:18.817879 \n",
      "[11]\ttrain-rmse:17.822158 \n",
      "[12]\ttrain-rmse:16.978782 \n",
      "[13]\ttrain-rmse:16.219072 \n",
      "[14]\ttrain-rmse:15.552487 \n",
      "[15]\ttrain-rmse:14.952987 \n",
      "[16]\ttrain-rmse:14.417237 \n",
      "[17]\ttrain-rmse:13.975676 \n",
      "[18]\ttrain-rmse:13.487710 \n",
      "[19]\ttrain-rmse:12.887499 \n",
      "[20]\ttrain-rmse:12.299420 \n",
      "[21]\ttrain-rmse:11.866652 \n",
      "[22]\ttrain-rmse:11.567511 \n",
      "[23]\ttrain-rmse:11.079190 \n",
      "[24]\ttrain-rmse:10.756278 \n",
      "[25]\ttrain-rmse:10.332401 \n",
      "[26]\ttrain-rmse:10.068986 \n",
      "[27]\ttrain-rmse:9.833652 \n",
      "[28]\ttrain-rmse:9.484699 \n",
      "[29]\ttrain-rmse:9.155073 \n",
      "[30]\ttrain-rmse:8.986003 \n",
      "[31]\ttrain-rmse:8.662468 \n",
      "[32]\ttrain-rmse:8.476621 \n",
      "[33]\ttrain-rmse:8.345260 \n",
      "[34]\ttrain-rmse:8.061549 \n",
      "[35]\ttrain-rmse:7.858096 \n",
      "[36]\ttrain-rmse:7.722228 \n",
      "[37]\ttrain-rmse:7.537137 \n",
      "[38]\ttrain-rmse:7.299498 \n",
      "[39]\ttrain-rmse:7.106975 \n",
      "[40]\ttrain-rmse:6.915874 \n",
      "[41]\ttrain-rmse:6.707534 \n",
      "[42]\ttrain-rmse:6.505414 \n",
      "[43]\ttrain-rmse:6.344318 \n",
      "[44]\ttrain-rmse:6.204206 \n",
      "[45]\ttrain-rmse:6.039753 \n",
      "[46]\ttrain-rmse:5.905858 \n",
      "[47]\ttrain-rmse:5.741483 \n",
      "[48]\ttrain-rmse:5.617330 \n",
      "[49]\ttrain-rmse:5.472925 \n",
      "[50]\ttrain-rmse:5.345957 \n",
      "[51]\ttrain-rmse:5.238321 \n",
      "[52]\ttrain-rmse:5.124898 \n",
      "[53]\ttrain-rmse:5.052989 \n",
      "[54]\ttrain-rmse:4.941026 \n",
      "[55]\ttrain-rmse:4.839640 \n",
      "[56]\ttrain-rmse:4.778994 \n",
      "[57]\ttrain-rmse:4.692595 \n",
      "[58]\ttrain-rmse:4.639081 \n",
      "[59]\ttrain-rmse:4.548056 \n",
      "[60]\ttrain-rmse:4.495016 \n",
      "[61]\ttrain-rmse:4.387863 \n",
      "[62]\ttrain-rmse:4.293622 \n",
      "[63]\ttrain-rmse:4.251714 \n",
      "[64]\ttrain-rmse:4.195035 \n",
      "[65]\ttrain-rmse:4.160844 \n",
      "[66]\ttrain-rmse:4.072586 \n",
      "[67]\ttrain-rmse:4.039392 \n",
      "[68]\ttrain-rmse:3.973224 \n",
      "[69]\ttrain-rmse:3.884499 \n",
      "[70]\ttrain-rmse:3.793276 \n",
      "[71]\ttrain-rmse:3.725086 \n",
      "[72]\ttrain-rmse:3.612960 \n",
      "[73]\ttrain-rmse:3.511276 \n",
      "[74]\ttrain-rmse:3.450951 \n",
      "[75]\ttrain-rmse:3.360270 \n",
      "[76]\ttrain-rmse:3.280317 \n",
      "[77]\ttrain-rmse:3.206280 \n",
      "[78]\ttrain-rmse:3.186336 \n",
      "[79]\ttrain-rmse:3.071261 \n",
      "[80]\ttrain-rmse:3.010828 \n",
      "[81]\ttrain-rmse:2.962512 \n",
      "[82]\ttrain-rmse:2.916064 \n",
      "[83]\ttrain-rmse:2.887705 \n",
      "[84]\ttrain-rmse:2.821020 \n",
      "[85]\ttrain-rmse:2.769535 \n",
      "[86]\ttrain-rmse:2.730174 \n",
      "[87]\ttrain-rmse:2.683014 \n",
      "[88]\ttrain-rmse:2.660349 \n",
      "[89]\ttrain-rmse:2.636245 \n",
      "[90]\ttrain-rmse:2.592077 \n",
      "[91]\ttrain-rmse:2.535039 \n",
      "[92]\ttrain-rmse:2.489298 \n",
      "[93]\ttrain-rmse:2.469443 \n",
      "[94]\ttrain-rmse:2.445894 \n",
      "[95]\ttrain-rmse:2.380194 \n",
      "[96]\ttrain-rmse:2.320571 \n",
      "[97]\ttrain-rmse:2.268977 \n",
      "[98]\ttrain-rmse:2.238448 \n",
      "[99]\ttrain-rmse:2.204306 \n",
      "[100]\ttrain-rmse:2.184305 \n"
     ]
    }
   ],
   "source": [
    "library(xgboost)\n",
    "\n",
    "xgb_model <- xgboost(\n",
    "  data = train_matrix, \n",
    "  label = train_label, \n",
    "  nrounds = 100,              # number of trees\n",
    "  objective = \"reg:squarederror\",  # regression task\n",
    "  eta = 0.1,                  # learning rate\n",
    "  max_depth = 6,              # depth of each tree\n",
    "  verbose = 1                 # show training output\n",
    ")"
   ]
  },
  {
   "cell_type": "code",
   "execution_count": 52,
   "id": "00d4965e",
   "metadata": {},
   "outputs": [],
   "source": [
    "xgb_predictions <- predict(xgb_model, newdata = test_matrix)"
   ]
  },
  {
   "cell_type": "code",
   "execution_count": 53,
   "id": "c6d9548b",
   "metadata": {},
   "outputs": [
    {
     "name": "stdout",
     "output_type": "stream",
     "text": [
      "[1] \"XGBoost RMSE: 21.8273680723114\"\n",
      "[1] \"XGBoost R-squared: -0.122996681967657\"\n"
     ]
    }
   ],
   "source": [
    "xgb_rmse <- sqrt(mean((test_label - xgb_predictions)^2))\n",
    "print(paste(\"XGBoost RMSE:\", xgb_rmse))\n",
    "\n",
    "# R-squared\n",
    "xgb_r_squared <- 1 - (sum((test_label - xgb_predictions)^2) / sum((test_label - mean(test_label))^2))\n",
    "print(paste(\"XGBoost R-squared:\", xgb_r_squared))"
   ]
  },
  {
   "cell_type": "code",
   "execution_count": null,
   "id": "ccc0d790",
   "metadata": {},
   "outputs": [],
   "source": []
  },
  {
   "cell_type": "code",
   "execution_count": 54,
   "id": "103a85ff",
   "metadata": {},
   "outputs": [],
   "source": [
    "#Model 4 Linear Model (TV & Radio Advertising Budgets only) & Its Evaluation"
   ]
  },
  {
   "cell_type": "code",
   "execution_count": null,
   "id": "901eba63",
   "metadata": {},
   "outputs": [],
   "source": []
  },
  {
   "cell_type": "code",
   "execution_count": 55,
   "id": "81f2e6f5",
   "metadata": {},
   "outputs": [],
   "source": [
    "model_simple <- lm(Sales ~ Tv_Ad_Budget + Radio_Ad_Budget, data = train_data)"
   ]
  },
  {
   "cell_type": "code",
   "execution_count": 56,
   "id": "276cfaa1",
   "metadata": {},
   "outputs": [
    {
     "data": {
      "text/plain": [
       "\n",
       "Call:\n",
       "lm(formula = Sales ~ Tv_Ad_Budget + Radio_Ad_Budget, data = train_data)\n",
       "\n",
       "Residuals:\n",
       "    Min      1Q  Median      3Q     Max \n",
       "-38.002 -16.458  -3.211  13.234  76.343 \n",
       "\n",
       "Coefficients:\n",
       "                Estimate Std. Error t value Pr(>|t|)    \n",
       "(Intercept)     39.81383    4.96671   8.016 4.29e-13 ***\n",
       "Tv_Ad_Budget    -0.07870    0.03085  -2.551   0.0118 *  \n",
       "Radio_Ad_Budget -0.01209    0.02163  -0.559   0.5772    \n",
       "---\n",
       "Signif. codes:  0 '***' 0.001 '**' 0.01 '*' 0.05 '.' 0.1 ' ' 1\n",
       "\n",
       "Residual standard error: 21.87 on 137 degrees of freedom\n",
       "Multiple R-squared:  0.0468,\tAdjusted R-squared:  0.03289 \n",
       "F-statistic: 3.363 on 2 and 137 DF,  p-value: 0.0375\n"
      ]
     },
     "metadata": {},
     "output_type": "display_data"
    }
   ],
   "source": [
    "summary(model_simple)"
   ]
  },
  {
   "cell_type": "code",
   "execution_count": 57,
   "id": "98f17f7d",
   "metadata": {},
   "outputs": [],
   "source": [
    "simple_predictions <- predict(model_simple, newdata = test_data)"
   ]
  },
  {
   "cell_type": "code",
   "execution_count": null,
   "id": "dda595b4",
   "metadata": {},
   "outputs": [],
   "source": []
  },
  {
   "cell_type": "code",
   "execution_count": 58,
   "id": "1dc42646",
   "metadata": {},
   "outputs": [],
   "source": [
    "#Model 5 (Tv Ad Budget Only) & Its evaluation"
   ]
  },
  {
   "cell_type": "code",
   "execution_count": 59,
   "id": "04bda30f",
   "metadata": {},
   "outputs": [],
   "source": [
    "model_tv_only <- lm(Sales ~ Tv_Ad_Budget, data = train_data)"
   ]
  },
  {
   "cell_type": "code",
   "execution_count": 60,
   "id": "e0713b16",
   "metadata": {},
   "outputs": [
    {
     "data": {
      "text/plain": [
       "\n",
       "Call:\n",
       "lm(formula = Sales ~ Tv_Ad_Budget, data = train_data)\n",
       "\n",
       "Residuals:\n",
       "   Min     1Q Median     3Q    Max \n",
       "-36.25 -16.78  -3.57  13.92  77.38 \n",
       "\n",
       "Coefficients:\n",
       "             Estimate Std. Error t value Pr(>|t|)    \n",
       "(Intercept)  37.95281    3.67552  10.326   <2e-16 ***\n",
       "Tv_Ad_Budget -0.07809    0.03076  -2.539   0.0122 *  \n",
       "---\n",
       "Signif. codes:  0 '***' 0.001 '**' 0.01 '*' 0.05 '.' 0.1 ' ' 1\n",
       "\n",
       "Residual standard error: 21.81 on 138 degrees of freedom\n",
       "Multiple R-squared:  0.04463,\tAdjusted R-squared:  0.03771 \n",
       "F-statistic: 6.446 on 1 and 138 DF,  p-value: 0.01223\n"
      ]
     },
     "metadata": {},
     "output_type": "display_data"
    }
   ],
   "source": [
    "summary(model_tv_only)"
   ]
  },
  {
   "cell_type": "code",
   "execution_count": 61,
   "id": "d6713b3b",
   "metadata": {},
   "outputs": [],
   "source": [
    "tv_predictions <- predict(model_tv_only, newdata = test_data)"
   ]
  },
  {
   "cell_type": "code",
   "execution_count": 62,
   "id": "0e463dca",
   "metadata": {},
   "outputs": [
    {
     "name": "stdout",
     "output_type": "stream",
     "text": [
      "[1] \"TV Only Model RMSE: 21.1226182517603\"\n"
     ]
    }
   ],
   "source": [
    "tv_rmse <- sqrt(mean((test_data$Sales - tv_predictions)^2))\n",
    "print(paste(\"TV Only Model RMSE:\", tv_rmse))"
   ]
  },
  {
   "cell_type": "code",
   "execution_count": 63,
   "id": "eed8d277",
   "metadata": {},
   "outputs": [
    {
     "name": "stdout",
     "output_type": "stream",
     "text": [
      "[1] \"TV Only Model R-squared: -0.0516500078393136\"\n"
     ]
    }
   ],
   "source": [
    "tv_r2 <- 1 - (sum((test_data$Sales - tv_predictions)^2) / sum((test_data$Sales - mean(test_data$Sales))^2))\n",
    "print(paste(\"TV Only Model R-squared:\", tv_r2))"
   ]
  },
  {
   "cell_type": "code",
   "execution_count": 64,
   "id": "7d1b1232",
   "metadata": {},
   "outputs": [],
   "source": [
    "#[Deployment Phase] Deployment would come after making major changes to where the evaluation would show \n",
    "# a model performance high enough for it to be used to solve the business problem"
   ]
  },
  {
   "cell_type": "code",
   "execution_count": null,
   "id": "12df1335",
   "metadata": {},
   "outputs": [],
   "source": []
  },
  {
   "cell_type": "code",
   "execution_count": null,
   "id": "ea5962b1",
   "metadata": {},
   "outputs": [],
   "source": []
  }
 ],
 "metadata": {
  "kernelspec": {
   "display_name": "R",
   "language": "R",
   "name": "ir"
  },
  "language_info": {
   "codemirror_mode": "r",
   "file_extension": ".r",
   "mimetype": "text/x-r-source",
   "name": "R",
   "pygments_lexer": "r",
   "version": "4.5.0"
  }
 },
 "nbformat": 4,
 "nbformat_minor": 5
}
