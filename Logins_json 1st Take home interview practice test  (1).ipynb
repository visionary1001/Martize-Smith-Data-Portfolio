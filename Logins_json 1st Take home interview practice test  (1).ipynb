{
 "cells": [
  {
   "cell_type": "code",
   "execution_count": 11,
   "id": "08ff195f",
   "metadata": {},
   "outputs": [],
   "source": [
    "#part one\n",
    "import pandas as pd"
   ]
  },
  {
   "cell_type": "code",
   "execution_count": 12,
   "id": "1f00e552",
   "metadata": {},
   "outputs": [
    {
     "data": {
      "text/html": [
       "<div>\n",
       "<style scoped>\n",
       "    .dataframe tbody tr th:only-of-type {\n",
       "        vertical-align: middle;\n",
       "    }\n",
       "\n",
       "    .dataframe tbody tr th {\n",
       "        vertical-align: top;\n",
       "    }\n",
       "\n",
       "    .dataframe thead th {\n",
       "        text-align: right;\n",
       "    }\n",
       "</style>\n",
       "<table border=\"1\" class=\"dataframe\">\n",
       "  <thead>\n",
       "    <tr style=\"text-align: right;\">\n",
       "      <th></th>\n",
       "      <th>login_time</th>\n",
       "    </tr>\n",
       "  </thead>\n",
       "  <tbody>\n",
       "    <tr>\n",
       "      <th>0</th>\n",
       "      <td>1970-01-01 20:13:18</td>\n",
       "    </tr>\n",
       "    <tr>\n",
       "      <th>1</th>\n",
       "      <td>1970-01-01 20:16:10</td>\n",
       "    </tr>\n",
       "    <tr>\n",
       "      <th>2</th>\n",
       "      <td>1970-01-01 20:16:37</td>\n",
       "    </tr>\n",
       "    <tr>\n",
       "      <th>3</th>\n",
       "      <td>1970-01-01 20:16:36</td>\n",
       "    </tr>\n",
       "    <tr>\n",
       "      <th>4</th>\n",
       "      <td>1970-01-01 20:26:21</td>\n",
       "    </tr>\n",
       "    <tr>\n",
       "      <th>...</th>\n",
       "      <td>...</td>\n",
       "    </tr>\n",
       "    <tr>\n",
       "      <th>93137</th>\n",
       "      <td>1970-04-13 18:50:19</td>\n",
       "    </tr>\n",
       "    <tr>\n",
       "      <th>93138</th>\n",
       "      <td>1970-04-13 18:43:56</td>\n",
       "    </tr>\n",
       "    <tr>\n",
       "      <th>93139</th>\n",
       "      <td>1970-04-13 18:54:02</td>\n",
       "    </tr>\n",
       "    <tr>\n",
       "      <th>93140</th>\n",
       "      <td>1970-04-13 18:57:38</td>\n",
       "    </tr>\n",
       "    <tr>\n",
       "      <th>93141</th>\n",
       "      <td>1970-04-13 18:54:23</td>\n",
       "    </tr>\n",
       "  </tbody>\n",
       "</table>\n",
       "<p>93142 rows × 1 columns</p>\n",
       "</div>"
      ],
      "text/plain": [
       "               login_time\n",
       "0     1970-01-01 20:13:18\n",
       "1     1970-01-01 20:16:10\n",
       "2     1970-01-01 20:16:37\n",
       "3     1970-01-01 20:16:36\n",
       "4     1970-01-01 20:26:21\n",
       "...                   ...\n",
       "93137 1970-04-13 18:50:19\n",
       "93138 1970-04-13 18:43:56\n",
       "93139 1970-04-13 18:54:02\n",
       "93140 1970-04-13 18:57:38\n",
       "93141 1970-04-13 18:54:23\n",
       "\n",
       "[93142 rows x 1 columns]"
      ]
     },
     "execution_count": 12,
     "metadata": {},
     "output_type": "execute_result"
    }
   ],
   "source": [
    "pd.read_json(\"logins.json\")"
   ]
  },
  {
   "cell_type": "code",
   "execution_count": null,
   "id": "462ecd27",
   "metadata": {},
   "outputs": [],
   "source": []
  },
  {
   "cell_type": "code",
   "execution_count": 14,
   "id": "245fe7f3",
   "metadata": {},
   "outputs": [],
   "source": [
    "df = pd.read_json(\"logins.json\")"
   ]
  },
  {
   "cell_type": "code",
   "execution_count": null,
   "id": "d5c31998",
   "metadata": {},
   "outputs": [],
   "source": []
  },
  {
   "cell_type": "code",
   "execution_count": 17,
   "id": "a0590148",
   "metadata": {},
   "outputs": [
    {
     "name": "stdout",
     "output_type": "stream",
     "text": [
      "Empty DataFrame\n",
      "Columns: []\n",
      "Index: []\n"
     ]
    }
   ],
   "source": [
    "df = (df.groupby(pd.Grouper(key='login_time', freq='15min'))\n",
    "       .agg(lambda x: {k: v for d in x for k, v in d.items()}))\n",
    "df = df[df.astype(bool).any(axis=1)]\n",
    "print (df)"
   ]
  },
  {
   "cell_type": "code",
   "execution_count": null,
   "id": "fc96aa53",
   "metadata": {},
   "outputs": [],
   "source": []
  },
  {
   "cell_type": "code",
   "execution_count": null,
   "id": "bb5adb72",
   "metadata": {},
   "outputs": [],
   "source": [
    "#part 2\n",
    "#The neighboring cities of Gotham and Metropolis have complementary circadian rhythms: on\n",
    "#weekdays, Ultimate Gotham is most active at night, and Ultimate Metropolis is most active\n",
    "#during the day. On weekends, there is reasonable activity in both cities.\n",
    "#However, a toll bridge, with a two way toll, between the two cities causes driver partners to tend\n",
    "#to be exclusive to each city. The Ultimate managers of city operations for the two cities have\n",
    "#proposed an experiment to encourage driver partners to be available in both cities, by\n",
    "#reimbursing all toll costs."
   ]
  },
  {
   "cell_type": "code",
   "execution_count": null,
   "id": "ef5edd9e",
   "metadata": {},
   "outputs": [],
   "source": [
    "#1) What would you choose as the key measure of success of this experiment in\n",
    "#encouraging driver partners to serve both cities, and why would you choose this metric?\n",
    "\n",
    "#my answer: i would choose the traffic number, number of driver partners requesting reimbursment and \n",
    "#frequency of driver partners requesting reimbursments. I decide  on these metrics because it accurately showsor if\n",
    "#driving partners are motivated or not by the city offering to reemburse dring partners \n",
    "\n",
    "\n",
    "#2) Describe a practical experiment you would design to compare the effectiveness of the\n",
    "#proposed change in relation to the key measure of success. Please provide details on:\n",
    "\n",
    "#a) how you will implement the experiment\n",
    "#the experiment would be to record data on traffic of the driving partners over a breif period of time\n",
    "#as they use the toll bridge as well record the driving partners reimbursement requests generally and the \n",
    "#frequnecy of their reimbursement request. As i do this also the three items im measuring are predictors of \n",
    "#of future activity as i would expand the recordings of the measurements over time if the driving partners were\n",
    "#taking the action we want through cities incentive with the imbursements. \n",
    "\n",
    "#b) what statistical test(s) you will conduct to verify the significance of the observation\n",
    "#my answer: i would conduct basic statisitical tests like summary statistics and correlations testing. \n",
    "\n",
    "#c) how you would interpret the results and provide recommendations to the city operations team along with any caveats.\n",
    "#my answer i would interpret the results by setting a threshold of the minimum amount of certain units or activiies from \n",
    "#driving partners that if met would signify consisitent an long term actions of driving partners being active in both cities \n",
    "#and that the cities reimbursements to drivers wouldnt put city's fiancnial accounts at high risk. I would also after doing\n",
    "#breif test would expand the times of the test more and more slowly so see if we can get predcitiable results from previous \n",
    "#weeks and months. my recommendations would be based on the data that let me accruate predict worsr case scenario averages\n",
    "#so if things ever devaite from calcualted predictions the city would still be in good shape and having drivers in both\n",
    "#cities\n"
   ]
  },
  {
   "cell_type": "code",
   "execution_count": null,
   "id": "05c1c61e",
   "metadata": {},
   "outputs": [],
   "source": []
  }
 ],
 "metadata": {
  "kernelspec": {
   "display_name": "Python 3 (ipykernel)",
   "language": "python",
   "name": "python3"
  },
  "language_info": {
   "codemirror_mode": {
    "name": "ipython",
    "version": 3
   },
   "file_extension": ".py",
   "mimetype": "text/x-python",
   "name": "python",
   "nbconvert_exporter": "python",
   "pygments_lexer": "ipython3",
   "version": "3.10.9"
  }
 },
 "nbformat": 4,
 "nbformat_minor": 5
}
