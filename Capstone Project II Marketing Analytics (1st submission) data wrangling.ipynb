{
 "cells": [
  {
   "cell_type": "code",
   "execution_count": null,
   "id": "4a2ba588",
   "metadata": {},
   "outputs": [],
   "source": [
    "#Capstone Project II: Marketing Analytics \n",
    "#The problem to be explored will be (1) uncovering what marketing channel provides the best yield \n",
    "#(2) what campaigns were successes and failures and what where the determining factors or impact points \n",
    "#(3) what products did customers prefer as well as did any customer profiles have a link to favor certain products \n",
    "#or marketing channel favorites to consume or research or even spend time on.  \n",
    "#Additionally, what insights can be drawn from our current customer profiles to help decide what marketing channels \n",
    "#to focus more on and what products to market aggressively using similar actions that worked in successful campaigns. \n",
    "#Furthermore, the data analysis is to seek to learn what correlations, trends, and patterns are visible then to have \n",
    "#data-driven insights to help make better business decisions \n"
   ]
  },
  {
   "cell_type": "code",
   "execution_count": null,
   "id": "81e1d00c",
   "metadata": {},
   "outputs": [],
   "source": [
    "import pandas as pd\n",
    "import matplotlib.pyplot as plt\n",
    "import seaborn as sns\n",
    "import os\n",
    "\n",
    "from library.sb_utils import save_file"
   ]
  },
  {
   "cell_type": "code",
   "execution_count": null,
   "id": "61276d83",
   "metadata": {},
   "outputs": [],
   "source": [
    "#\"C:\\Users\\Mtize\\Downloads\\DataScienceGuidedCapstone-master\\raw_data\\ifood_df.csv\"\n",
    "#\"C:\\Users\\Mtize\\Downloads\\Capstone_Project_Two\\ifood_df.csv\"\n",
    "#ifood_data = pd.read_csv('../Capstone_Project_Two//ifood_df.csv') ; ask advisor question about this \n",
    "#print(ifood_data)"
   ]
  },
  {
   "cell_type": "code",
   "execution_count": null,
   "id": "cea8a6cd",
   "metadata": {},
   "outputs": [],
   "source": []
  },
  {
   "cell_type": "code",
   "execution_count": null,
   "id": "6ef5af10",
   "metadata": {},
   "outputs": [],
   "source": [
    "#ski_data = pd.read_csv('../raw_data/ski_resort_data.csv')\n",
    "ifood_data = pd.read_csv('../raw_data//ifood_df.csv')\n",
    "print(ifood_data)"
   ]
  },
  {
   "cell_type": "code",
   "execution_count": null,
   "id": "6a573b44",
   "metadata": {},
   "outputs": [],
   "source": [
    "ifood_data.info()"
   ]
  },
  {
   "cell_type": "code",
   "execution_count": null,
   "id": "25e5b846",
   "metadata": {},
   "outputs": [],
   "source": [
    "#the 0 to 2k+ are the customers who have bought things, the 39 colunms is data on them that ranges\n",
    "#from income, amount of kids, preferred prodcuct, there education etc. \n",
    "ifood_data.head()"
   ]
  },
  {
   "cell_type": "code",
   "execution_count": null,
   "id": "fb0abd0c",
   "metadata": {
    "scrolled": true
   },
   "outputs": [],
   "source": [
    "ifood_data.loc[:2205, [\"NumDealsPurchases\", \"NumWebPurchases\", \"NumCatalogPurchases\", \"NumStorePurchases\"]].T"
   ]
  },
  {
   "cell_type": "code",
   "execution_count": null,
   "id": "aeeb4098",
   "metadata": {},
   "outputs": [],
   "source": [
    "#confused on what to name the x and y labels \n",
    "plt.plot(ifood_data['NumDealsPurchases'], label='Discount Purchases')\n",
    "plt.plot(ifood_data['NumWebPurchases'], label='Website Purhcases')\n",
    "plt.plot(ifood_data['NumCatalogPurchases'], label='CatalogPurchases')\n",
    "plt.plot(ifood_data['NumStorePurchases'], label='Store Purchases')\n",
    "\n",
    "plt.xlabel('Customers')\n",
    "plt.ylabel('Multi-Column Segement')\n",
    "plt.title('Marketing Channel Performance')\n",
    "\n",
    "plt.legend()\n",
    "plt.show()\n"
   ]
  },
  {
   "cell_type": "code",
   "execution_count": null,
   "id": "00a22626",
   "metadata": {},
   "outputs": [],
   "source": [
    "#check to see if the 2204/2205 are customers still confused not sure i even used the right code to\n",
    "#show when im looking to find out from the data\n",
    "ifood_data.loc[:2205, [\"MntMeatProducts\", \"MntFishProducts\", \"MntGoldProds\", \"MntSweetProducts\", \"MntRegularProds\"]].T"
   ]
  },
  {
   "cell_type": "code",
   "execution_count": null,
   "id": "e32c84b7",
   "metadata": {},
   "outputs": [],
   "source": [
    "#observing what are the product perefences among customers \n",
    "plt.hist(ifood_data['MntMeatProducts'], bins=25, alpha=0.45, color='brown')\n",
    "plt.hist(ifood_data['MntFishProducts'], bins=25, alpha=0.45, color='blue')\n",
    "plt.hist(ifood_data['MntGoldProds'], bins=25, alpha=0.45, color='gold')\n",
    "plt.hist(ifood_data['MntSweetProducts'], bins=25, alpha=0.45, color='yellow')\n",
    "plt.hist(ifood_data['MntRegularProds'], bins=25, alpha=0.45, color='red')\n",
    "\n",
    "\n",
    "plt.title(\"histogram with multiple \\\n",
    "variables (overlapping histogram)\")\n",
    "  \n",
    "plt.legend(['Meat Products', \n",
    "            'Fish Products', 'Gold Products', 'Sweet Products', 'Regular Products'])\n",
    "  \n",
    "plt.show()"
   ]
  },
  {
   "cell_type": "code",
   "execution_count": null,
   "id": "569d8b89",
   "metadata": {},
   "outputs": [],
   "source": [
    "ifood_data.loc[:2205, [\"AcceptedCmp1\", \"AcceptedCmp2\", \"AcceptedCmp3\", \"AcceptedCmp4\", \"AcceptedCmp5\", \"Response\"]].T"
   ]
  },
  {
   "cell_type": "code",
   "execution_count": null,
   "id": "e168d59c",
   "metadata": {},
   "outputs": [],
   "source": [
    "#find way to show graph of the 5 columns plus there 0,1 = yes/no answers on one chart \n",
    "ifood_data['AcceptedCmp1'].plot(kind=\"bar\")\n",
    "ifood_data['AcceptedCmp2'].plot(kind=\"bar\")\n",
    "ifood_data['AcceptedCmp3'].plot(kind=\"bar\")\n",
    "ifood_data['AcceptedCmp4'].plot(kind=\"bar\")\n",
    "ifood_data['AcceptedCmp5'].plot(kind=\"bar\")\n",
    "ifood_data['Response'].plot(kind=\"bar\")\n",
    "\n",
    "df.plot(kind=\"bar\", stacked = True )\n",
    "plot.title(\"Sales Campaign Performance\")\n",
    "plot.xlabel(\"Action Took\")\n",
    "plot.ylabel(\"Perfomance\")"
   ]
  },
  {
   "cell_type": "code",
   "execution_count": null,
   "id": "716d7953",
   "metadata": {},
   "outputs": [],
   "source": [
    "#may not need the below code but will decide in the future as i progress on the project \n",
    "ifood_data.loc[:2205, [\"Income\", \"Age\", \"marital_Single\", \"NumWebVisitsMonth\", \"Recency\"]].T"
   ]
  },
  {
   "cell_type": "code",
   "execution_count": null,
   "id": "5dcb6089",
   "metadata": {},
   "outputs": [],
   "source": [
    "#other things to consider: (1) rework/reexamine entrie project to check that that data i closely exmined wil answer the \n",
    "#problem ID questions (2) look into heatmaps and other methods to uncover trends and things that help with answer problem \n",
    "#was addressed (3) brain storm and write out another 5 ways to extract more insights based on solving the problems defined \n",
    "#in project and getting greater access and understanding of project  "
   ]
  },
  {
   "cell_type": "code",
   "execution_count": null,
   "id": "a973fb68",
   "metadata": {},
   "outputs": [],
   "source": []
  },
  {
   "cell_type": "code",
   "execution_count": null,
   "id": "bf60a295",
   "metadata": {},
   "outputs": [],
   "source": []
  }
 ],
 "metadata": {
  "kernelspec": {
   "display_name": "Python 3 (ipykernel)",
   "language": "python",
   "name": "python3"
  },
  "language_info": {
   "codemirror_mode": {
    "name": "ipython",
    "version": 3
   },
   "file_extension": ".py",
   "mimetype": "text/x-python",
   "name": "python",
   "nbconvert_exporter": "python",
   "pygments_lexer": "ipython3",
   "version": "3.10.9"
  }
 },
 "nbformat": 4,
 "nbformat_minor": 5
}
